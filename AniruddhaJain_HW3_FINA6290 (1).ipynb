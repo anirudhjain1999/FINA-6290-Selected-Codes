{
 "cells": [
  {
   "cell_type": "code",
   "execution_count": 272,
   "id": "3ffc4273",
   "metadata": {
    "ExecuteTime": {
     "end_time": "2023-04-02T20:47:55.901252Z",
     "start_time": "2023-04-02T20:47:55.896878Z"
    }
   },
   "outputs": [],
   "source": [
    "# Aniruddha Jain\n",
    "# G21548859"
   ]
  },
  {
   "cell_type": "markdown",
   "id": "33225d5a",
   "metadata": {},
   "source": [
    "# Homework 3"
   ]
  },
  {
   "cell_type": "markdown",
   "id": "31476045",
   "metadata": {},
   "source": [
    "## Question 1\n",
    "\n",
    "- This question may seem long, but closely follows the structure of Lecture 7"
   ]
  },
  {
   "cell_type": "code",
   "execution_count": 273,
   "id": "5c613a39",
   "metadata": {
    "ExecuteTime": {
     "end_time": "2023-04-02T20:47:59.016911Z",
     "start_time": "2023-04-02T20:47:55.905317Z"
    }
   },
   "outputs": [
    {
     "name": "stdout",
     "output_type": "stream",
     "text": [
      "Requirement already satisfied: cvxpy in /Library/Frameworks/Python.framework/Versions/3.11/lib/python3.11/site-packages (1.3.1)\n",
      "Requirement already satisfied: osqp>=0.4.1 in /Library/Frameworks/Python.framework/Versions/3.11/lib/python3.11/site-packages (from cvxpy) (0.6.2.post8)\n",
      "Requirement already satisfied: ecos>=2 in /Library/Frameworks/Python.framework/Versions/3.11/lib/python3.11/site-packages (from cvxpy) (2.0.12)\n",
      "Requirement already satisfied: scs>=1.1.6 in /Library/Frameworks/Python.framework/Versions/3.11/lib/python3.11/site-packages (from cvxpy) (3.2.2)\n",
      "Requirement already satisfied: numpy>=1.15 in /Library/Frameworks/Python.framework/Versions/3.11/lib/python3.11/site-packages (from cvxpy) (1.23.5)\n",
      "Requirement already satisfied: scipy>=1.1.0 in /Library/Frameworks/Python.framework/Versions/3.11/lib/python3.11/site-packages (from cvxpy) (1.9.3)\n",
      "Requirement already satisfied: setuptools>65.5.1 in /Library/Frameworks/Python.framework/Versions/3.11/lib/python3.11/site-packages (from cvxpy) (67.6.0)\n",
      "Requirement already satisfied: qdldl in /Library/Frameworks/Python.framework/Versions/3.11/lib/python3.11/site-packages (from osqp>=0.4.1->cvxpy) (0.1.5.post3)\n",
      "\n",
      "\u001b[1m[\u001b[0m\u001b[34;49mnotice\u001b[0m\u001b[1;39;49m]\u001b[0m\u001b[39;49m A new release of pip is available: \u001b[0m\u001b[31;49m23.0\u001b[0m\u001b[39;49m -> \u001b[0m\u001b[32;49m23.0.1\u001b[0m\n",
      "\u001b[1m[\u001b[0m\u001b[34;49mnotice\u001b[0m\u001b[1;39;49m]\u001b[0m\u001b[39;49m To update, run: \u001b[0m\u001b[32;49mpip install --upgrade pip\u001b[0m\n"
     ]
    }
   ],
   "source": [
    "!pip install cvxpy  # install cvxpy if not already installed\n",
    "import cvxpy as cp\n"
   ]
  },
  {
   "cell_type": "code",
   "execution_count": 337,
   "id": "d6588406",
   "metadata": {
    "ExecuteTime": {
     "end_time": "2023-04-02T20:57:34.309284Z",
     "start_time": "2023-04-02T20:57:34.303941Z"
    }
   },
   "outputs": [],
   "source": [
    "#### DO NOT CHANGE THIS BLOCK OF CODE  ####\n",
    "\n",
    "import pandas as pd\n",
    "import numpy as np\n",
    "from datetime import date\n",
    "import matplotlib.pyplot as plt\n",
    "import yfinance as yf\n",
    "import pandas_datareader.data as web\n",
    "import statsmodels.api as sm\n",
    "\n",
    "tickers=[\"WMT\", \"NKE\", \"BA\", \"KO\", \"CAT\", \"MCD\", \"IBM\", \"DIS\", \"GOOG\", \"AMZN\", \"MSFT\"]\n",
    "start_date=date(2014,1,1)\n",
    "end_date=date(2019,12,31)\n",
    "np.random.seed(100)"
   ]
  },
  {
   "cell_type": "code",
   "execution_count": 338,
   "id": "6724d135",
   "metadata": {
    "ExecuteTime": {
     "end_time": "2023-04-02T20:57:35.469103Z",
     "start_time": "2023-04-02T20:57:35.465489Z"
    }
   },
   "outputs": [],
   "source": [
    "n_equities = len(tickers)"
   ]
  },
  {
   "cell_type": "markdown",
   "id": "3b58f469",
   "metadata": {},
   "source": [
    "#### A) Create a pandas DataFrame of monthly returns for the above tickers from the start_date to end_date\n",
    "\n",
    "- Use only the \"Adj Close\" column to calculate the percent change\n",
    "- Note the DataFrame index should be the date variable and the column names should be the same as the tickers"
   ]
  },
  {
   "cell_type": "code",
   "execution_count": 339,
   "id": "fa17b132",
   "metadata": {
    "ExecuteTime": {
     "end_time": "2023-04-02T20:57:38.009109Z",
     "start_time": "2023-04-02T20:57:36.966659Z"
    }
   },
   "outputs": [
    {
     "name": "stdout",
     "output_type": "stream",
     "text": [
      "[*********************100%***********************]  11 of 11 completed\n"
     ]
    }
   ],
   "source": [
    "data=yf.download(tickers,start_date,end_date)['Adj Close']\n"
   ]
  },
  {
   "cell_type": "code",
   "execution_count": 340,
   "id": "1587c9f9",
   "metadata": {
    "ExecuteTime": {
     "end_time": "2023-04-02T20:57:38.760747Z",
     "start_time": "2023-04-02T20:57:38.750216Z"
    }
   },
   "outputs": [
    {
     "data": {
      "text/html": [
       "<div>\n",
       "<style scoped>\n",
       "    .dataframe tbody tr th:only-of-type {\n",
       "        vertical-align: middle;\n",
       "    }\n",
       "\n",
       "    .dataframe tbody tr th {\n",
       "        vertical-align: top;\n",
       "    }\n",
       "\n",
       "    .dataframe thead th {\n",
       "        text-align: right;\n",
       "    }\n",
       "</style>\n",
       "<table border=\"1\" class=\"dataframe\">\n",
       "  <thead>\n",
       "    <tr style=\"text-align: right;\">\n",
       "      <th></th>\n",
       "      <th>AMZN</th>\n",
       "      <th>BA</th>\n",
       "      <th>CAT</th>\n",
       "      <th>DIS</th>\n",
       "      <th>GOOG</th>\n",
       "      <th>IBM</th>\n",
       "      <th>KO</th>\n",
       "      <th>MCD</th>\n",
       "      <th>MSFT</th>\n",
       "      <th>NKE</th>\n",
       "      <th>WMT</th>\n",
       "    </tr>\n",
       "    <tr>\n",
       "      <th>Date</th>\n",
       "      <th></th>\n",
       "      <th></th>\n",
       "      <th></th>\n",
       "      <th></th>\n",
       "      <th></th>\n",
       "      <th></th>\n",
       "      <th></th>\n",
       "      <th></th>\n",
       "      <th></th>\n",
       "      <th></th>\n",
       "      <th></th>\n",
       "    </tr>\n",
       "  </thead>\n",
       "  <tbody>\n",
       "    <tr>\n",
       "      <th>2014-01-02</th>\n",
       "      <td>19.898500</td>\n",
       "      <td>116.807938</td>\n",
       "      <td>69.182617</td>\n",
       "      <td>70.192505</td>\n",
       "      <td>27.724083</td>\n",
       "      <td>120.876152</td>\n",
       "      <td>30.303062</td>\n",
       "      <td>75.261612</td>\n",
       "      <td>31.489395</td>\n",
       "      <td>35.394028</td>\n",
       "      <td>64.487144</td>\n",
       "    </tr>\n",
       "    <tr>\n",
       "      <th>2014-01-03</th>\n",
       "      <td>19.822001</td>\n",
       "      <td>117.619858</td>\n",
       "      <td>69.144127</td>\n",
       "      <td>70.045273</td>\n",
       "      <td>27.521841</td>\n",
       "      <td>121.599350</td>\n",
       "      <td>30.154013</td>\n",
       "      <td>75.363083</td>\n",
       "      <td>31.277554</td>\n",
       "      <td>35.299019</td>\n",
       "      <td>64.274681</td>\n",
       "    </tr>\n",
       "    <tr>\n",
       "      <th>2014-01-06</th>\n",
       "      <td>19.681499</td>\n",
       "      <td>118.295090</td>\n",
       "      <td>68.235756</td>\n",
       "      <td>69.778374</td>\n",
       "      <td>27.828691</td>\n",
       "      <td>121.182343</td>\n",
       "      <td>30.012405</td>\n",
       "      <td>74.824463</td>\n",
       "      <td>30.616571</td>\n",
       "      <td>35.027584</td>\n",
       "      <td>63.915112</td>\n",
       "    </tr>\n",
       "    <tr>\n",
       "      <th>2014-01-07</th>\n",
       "      <td>19.901501</td>\n",
       "      <td>120.089867</td>\n",
       "      <td>68.459000</td>\n",
       "      <td>70.256935</td>\n",
       "      <td>28.365179</td>\n",
       "      <td>123.599487</td>\n",
       "      <td>30.101831</td>\n",
       "      <td>75.238190</td>\n",
       "      <td>30.853853</td>\n",
       "      <td>35.054745</td>\n",
       "      <td>64.111206</td>\n",
       "    </tr>\n",
       "    <tr>\n",
       "      <th>2014-01-08</th>\n",
       "      <td>20.096001</td>\n",
       "      <td>120.354843</td>\n",
       "      <td>68.620651</td>\n",
       "      <td>69.226181</td>\n",
       "      <td>28.424210</td>\n",
       "      <td>122.465858</td>\n",
       "      <td>29.766459</td>\n",
       "      <td>74.481010</td>\n",
       "      <td>30.303034</td>\n",
       "      <td>34.873791</td>\n",
       "      <td>63.604561</td>\n",
       "    </tr>\n",
       "  </tbody>\n",
       "</table>\n",
       "</div>"
      ],
      "text/plain": [
       "                 AMZN          BA        CAT        DIS       GOOG  \\\n",
       "Date                                                                 \n",
       "2014-01-02  19.898500  116.807938  69.182617  70.192505  27.724083   \n",
       "2014-01-03  19.822001  117.619858  69.144127  70.045273  27.521841   \n",
       "2014-01-06  19.681499  118.295090  68.235756  69.778374  27.828691   \n",
       "2014-01-07  19.901501  120.089867  68.459000  70.256935  28.365179   \n",
       "2014-01-08  20.096001  120.354843  68.620651  69.226181  28.424210   \n",
       "\n",
       "                   IBM         KO        MCD       MSFT        NKE        WMT  \n",
       "Date                                                                           \n",
       "2014-01-02  120.876152  30.303062  75.261612  31.489395  35.394028  64.487144  \n",
       "2014-01-03  121.599350  30.154013  75.363083  31.277554  35.299019  64.274681  \n",
       "2014-01-06  121.182343  30.012405  74.824463  30.616571  35.027584  63.915112  \n",
       "2014-01-07  123.599487  30.101831  75.238190  30.853853  35.054745  64.111206  \n",
       "2014-01-08  122.465858  29.766459  74.481010  30.303034  34.873791  63.604561  "
      ]
     },
     "execution_count": 340,
     "metadata": {},
     "output_type": "execute_result"
    }
   ],
   "source": [
    "data.head()"
   ]
  },
  {
   "cell_type": "code",
   "execution_count": 341,
   "id": "e13cd331",
   "metadata": {
    "ExecuteTime": {
     "end_time": "2023-04-02T20:57:41.080967Z",
     "start_time": "2023-04-02T20:57:41.034118Z"
    }
   },
   "outputs": [],
   "source": [
    "# calculate the monthly returns\n",
    "monthly_returns = data.pct_change().resample('M').agg(lambda x: x[-1]).dropna()\n"
   ]
  },
  {
   "cell_type": "code",
   "execution_count": 355,
   "id": "f6981e80",
   "metadata": {
    "ExecuteTime": {
     "end_time": "2023-04-02T21:00:25.329897Z",
     "start_time": "2023-04-02T21:00:25.319625Z"
    }
   },
   "outputs": [
    {
     "data": {
      "text/html": [
       "<div>\n",
       "<style scoped>\n",
       "    .dataframe tbody tr th:only-of-type {\n",
       "        vertical-align: middle;\n",
       "    }\n",
       "\n",
       "    .dataframe tbody tr th {\n",
       "        vertical-align: top;\n",
       "    }\n",
       "\n",
       "    .dataframe thead th {\n",
       "        text-align: right;\n",
       "    }\n",
       "</style>\n",
       "<table border=\"1\" class=\"dataframe\">\n",
       "  <thead>\n",
       "    <tr style=\"text-align: right;\">\n",
       "      <th></th>\n",
       "      <th>AMZN</th>\n",
       "      <th>BA</th>\n",
       "      <th>CAT</th>\n",
       "      <th>DIS</th>\n",
       "      <th>GOOG</th>\n",
       "      <th>IBM</th>\n",
       "      <th>KO</th>\n",
       "      <th>MCD</th>\n",
       "      <th>MSFT</th>\n",
       "      <th>NKE</th>\n",
       "      <th>WMT</th>\n",
       "    </tr>\n",
       "    <tr>\n",
       "      <th>Date</th>\n",
       "      <th></th>\n",
       "      <th></th>\n",
       "      <th></th>\n",
       "      <th></th>\n",
       "      <th></th>\n",
       "      <th></th>\n",
       "      <th></th>\n",
       "      <th></th>\n",
       "      <th></th>\n",
       "      <th></th>\n",
       "      <th></th>\n",
       "    </tr>\n",
       "  </thead>\n",
       "  <tbody>\n",
       "    <tr>\n",
       "      <th>2014-01-31</th>\n",
       "      <td>-0.109972</td>\n",
       "      <td>-0.010037</td>\n",
       "      <td>0.007618</td>\n",
       "      <td>-0.008331</td>\n",
       "      <td>0.040145</td>\n",
       "      <td>-0.003834</td>\n",
       "      <td>-0.009169</td>\n",
       "      <td>0.003944</td>\n",
       "      <td>0.026587</td>\n",
       "      <td>-0.014742</td>\n",
       "      <td>-0.000936</td>\n",
       "    </tr>\n",
       "    <tr>\n",
       "      <th>2014-02-28</th>\n",
       "      <td>0.005470</td>\n",
       "      <td>0.002800</td>\n",
       "      <td>0.002792</td>\n",
       "      <td>0.004100</td>\n",
       "      <td>-0.002920</td>\n",
       "      <td>-0.000540</td>\n",
       "      <td>0.003415</td>\n",
       "      <td>0.000736</td>\n",
       "      <td>0.011885</td>\n",
       "      <td>0.003589</td>\n",
       "      <td>0.001878</td>\n",
       "    </tr>\n",
       "    <tr>\n",
       "      <th>2014-03-31</th>\n",
       "      <td>-0.005676</td>\n",
       "      <td>0.008276</td>\n",
       "      <td>-0.000201</td>\n",
       "      <td>0.013673</td>\n",
       "      <td>-0.005393</td>\n",
       "      <td>0.010711</td>\n",
       "      <td>-0.007446</td>\n",
       "      <td>0.008124</td>\n",
       "      <td>0.017121</td>\n",
       "      <td>0.004351</td>\n",
       "      <td>0.005526</td>\n",
       "    </tr>\n",
       "    <tr>\n",
       "      <th>2014-04-30</th>\n",
       "      <td>0.012484</td>\n",
       "      <td>0.005064</td>\n",
       "      <td>0.000950</td>\n",
       "      <td>0.008901</td>\n",
       "      <td>-0.001971</td>\n",
       "      <td>0.006971</td>\n",
       "      <td>0.005423</td>\n",
       "      <td>-0.001182</td>\n",
       "      <td>-0.002715</td>\n",
       "      <td>0.006485</td>\n",
       "      <td>0.000502</td>\n",
       "    </tr>\n",
       "    <tr>\n",
       "      <th>2014-05-31</th>\n",
       "      <td>-0.003920</td>\n",
       "      <td>0.000814</td>\n",
       "      <td>-0.013224</td>\n",
       "      <td>-0.000238</td>\n",
       "      <td>-0.000339</td>\n",
       "      <td>0.003265</td>\n",
       "      <td>0.006148</td>\n",
       "      <td>0.000889</td>\n",
       "      <td>0.014874</td>\n",
       "      <td>0.006939</td>\n",
       "      <td>0.010397</td>\n",
       "    </tr>\n",
       "  </tbody>\n",
       "</table>\n",
       "</div>"
      ],
      "text/plain": [
       "                AMZN        BA       CAT       DIS      GOOG       IBM  \\\n",
       "Date                                                                     \n",
       "2014-01-31 -0.109972 -0.010037  0.007618 -0.008331  0.040145 -0.003834   \n",
       "2014-02-28  0.005470  0.002800  0.002792  0.004100 -0.002920 -0.000540   \n",
       "2014-03-31 -0.005676  0.008276 -0.000201  0.013673 -0.005393  0.010711   \n",
       "2014-04-30  0.012484  0.005064  0.000950  0.008901 -0.001971  0.006971   \n",
       "2014-05-31 -0.003920  0.000814 -0.013224 -0.000238 -0.000339  0.003265   \n",
       "\n",
       "                  KO       MCD      MSFT       NKE       WMT  \n",
       "Date                                                          \n",
       "2014-01-31 -0.009169  0.003944  0.026587 -0.014742 -0.000936  \n",
       "2014-02-28  0.003415  0.000736  0.011885  0.003589  0.001878  \n",
       "2014-03-31 -0.007446  0.008124  0.017121  0.004351  0.005526  \n",
       "2014-04-30  0.005423 -0.001182 -0.002715  0.006485  0.000502  \n",
       "2014-05-31  0.006148  0.000889  0.014874  0.006939  0.010397  "
      ]
     },
     "execution_count": 355,
     "metadata": {},
     "output_type": "execute_result"
    }
   ],
   "source": [
    "monthly_returns.head()"
   ]
  },
  {
   "cell_type": "markdown",
   "id": "731f4db4",
   "metadata": {},
   "source": [
    "#### B) Calculate the average returns for each stock (annualized) and the covariance matrix (annualized)"
   ]
  },
  {
   "cell_type": "code",
   "execution_count": 357,
   "id": "c42fd5bd",
   "metadata": {
    "ExecuteTime": {
     "end_time": "2023-04-02T21:00:30.194912Z",
     "start_time": "2023-04-02T21:00:30.179798Z"
    }
   },
   "outputs": [
    {
     "data": {
      "text/html": [
       "<div>\n",
       "<style scoped>\n",
       "    .dataframe tbody tr th:only-of-type {\n",
       "        vertical-align: middle;\n",
       "    }\n",
       "\n",
       "    .dataframe tbody tr th {\n",
       "        vertical-align: top;\n",
       "    }\n",
       "\n",
       "    .dataframe thead th {\n",
       "        text-align: right;\n",
       "    }\n",
       "</style>\n",
       "<table border=\"1\" class=\"dataframe\">\n",
       "  <thead>\n",
       "    <tr style=\"text-align: right;\">\n",
       "      <th></th>\n",
       "      <th>WMT</th>\n",
       "      <th>NKE</th>\n",
       "      <th>BA</th>\n",
       "      <th>KO</th>\n",
       "      <th>CAT</th>\n",
       "      <th>MCD</th>\n",
       "      <th>IBM</th>\n",
       "      <th>DIS</th>\n",
       "      <th>GOOG</th>\n",
       "      <th>AMZN</th>\n",
       "      <th>MSFT</th>\n",
       "    </tr>\n",
       "    <tr>\n",
       "      <th>Date</th>\n",
       "      <th></th>\n",
       "      <th></th>\n",
       "      <th></th>\n",
       "      <th></th>\n",
       "      <th></th>\n",
       "      <th></th>\n",
       "      <th></th>\n",
       "      <th></th>\n",
       "      <th></th>\n",
       "      <th></th>\n",
       "      <th></th>\n",
       "    </tr>\n",
       "  </thead>\n",
       "  <tbody>\n",
       "    <tr>\n",
       "      <th>2014-01-31</th>\n",
       "      <td>-0.000936</td>\n",
       "      <td>-0.014742</td>\n",
       "      <td>-0.010037</td>\n",
       "      <td>-0.009169</td>\n",
       "      <td>0.007618</td>\n",
       "      <td>0.003944</td>\n",
       "      <td>-0.003834</td>\n",
       "      <td>-0.008331</td>\n",
       "      <td>0.040145</td>\n",
       "      <td>-0.109972</td>\n",
       "      <td>0.026587</td>\n",
       "    </tr>\n",
       "    <tr>\n",
       "      <th>2014-02-28</th>\n",
       "      <td>0.001878</td>\n",
       "      <td>0.003589</td>\n",
       "      <td>0.002800</td>\n",
       "      <td>0.003415</td>\n",
       "      <td>0.002792</td>\n",
       "      <td>0.000736</td>\n",
       "      <td>-0.000540</td>\n",
       "      <td>0.004100</td>\n",
       "      <td>-0.002920</td>\n",
       "      <td>0.005470</td>\n",
       "      <td>0.011885</td>\n",
       "    </tr>\n",
       "    <tr>\n",
       "      <th>2014-03-31</th>\n",
       "      <td>0.005526</td>\n",
       "      <td>0.004351</td>\n",
       "      <td>0.008276</td>\n",
       "      <td>-0.007446</td>\n",
       "      <td>-0.000201</td>\n",
       "      <td>0.008124</td>\n",
       "      <td>0.010711</td>\n",
       "      <td>0.013673</td>\n",
       "      <td>-0.005393</td>\n",
       "      <td>-0.005676</td>\n",
       "      <td>0.017121</td>\n",
       "    </tr>\n",
       "    <tr>\n",
       "      <th>2014-04-30</th>\n",
       "      <td>0.000502</td>\n",
       "      <td>0.006485</td>\n",
       "      <td>0.005064</td>\n",
       "      <td>0.005423</td>\n",
       "      <td>0.000950</td>\n",
       "      <td>-0.001182</td>\n",
       "      <td>0.006971</td>\n",
       "      <td>0.008901</td>\n",
       "      <td>-0.001971</td>\n",
       "      <td>0.012484</td>\n",
       "      <td>-0.002715</td>\n",
       "    </tr>\n",
       "    <tr>\n",
       "      <th>2014-05-31</th>\n",
       "      <td>0.010397</td>\n",
       "      <td>0.006939</td>\n",
       "      <td>0.000814</td>\n",
       "      <td>0.006148</td>\n",
       "      <td>-0.013224</td>\n",
       "      <td>0.000889</td>\n",
       "      <td>0.003265</td>\n",
       "      <td>-0.000238</td>\n",
       "      <td>-0.000339</td>\n",
       "      <td>-0.003920</td>\n",
       "      <td>0.014874</td>\n",
       "    </tr>\n",
       "  </tbody>\n",
       "</table>\n",
       "</div>"
      ],
      "text/plain": [
       "                 WMT       NKE        BA        KO       CAT       MCD  \\\n",
       "Date                                                                     \n",
       "2014-01-31 -0.000936 -0.014742 -0.010037 -0.009169  0.007618  0.003944   \n",
       "2014-02-28  0.001878  0.003589  0.002800  0.003415  0.002792  0.000736   \n",
       "2014-03-31  0.005526  0.004351  0.008276 -0.007446 -0.000201  0.008124   \n",
       "2014-04-30  0.000502  0.006485  0.005064  0.005423  0.000950 -0.001182   \n",
       "2014-05-31  0.010397  0.006939  0.000814  0.006148 -0.013224  0.000889   \n",
       "\n",
       "                 IBM       DIS      GOOG      AMZN      MSFT  \n",
       "Date                                                          \n",
       "2014-01-31 -0.003834 -0.008331  0.040145 -0.109972  0.026587  \n",
       "2014-02-28 -0.000540  0.004100 -0.002920  0.005470  0.011885  \n",
       "2014-03-31  0.010711  0.013673 -0.005393 -0.005676  0.017121  \n",
       "2014-04-30  0.006971  0.008901 -0.001971  0.012484 -0.002715  \n",
       "2014-05-31  0.003265 -0.000238 -0.000339 -0.003920  0.014874  "
      ]
     },
     "execution_count": 357,
     "metadata": {},
     "output_type": "execute_result"
    }
   ],
   "source": [
    "df.head()"
   ]
  },
  {
   "cell_type": "code",
   "execution_count": 381,
   "id": "9c083dc1",
   "metadata": {
    "ExecuteTime": {
     "end_time": "2023-04-02T21:08:40.623235Z",
     "start_time": "2023-04-02T21:08:40.618585Z"
    }
   },
   "outputs": [],
   "source": [
    "avg_returns = monthly_returns.mean()"
   ]
  },
  {
   "cell_type": "code",
   "execution_count": 374,
   "id": "605128c6",
   "metadata": {
    "ExecuteTime": {
     "end_time": "2023-04-02T21:06:48.385515Z",
     "start_time": "2023-04-02T21:06:48.382169Z"
    }
   },
   "outputs": [],
   "source": [
    "# calculate the covariance matrix (annualized)\n",
    "cov_matrix = monthly_returns.cov() \n"
   ]
  },
  {
   "cell_type": "code",
   "execution_count": 377,
   "id": "a154c96f",
   "metadata": {
    "ExecuteTime": {
     "end_time": "2023-04-02T21:07:44.926024Z",
     "start_time": "2023-04-02T21:07:44.918354Z"
    }
   },
   "outputs": [
    {
     "data": {
      "text/plain": [
       "AMZN    0.118845\n",
       "BA     -0.139927\n",
       "CAT     0.068523\n",
       "DIS    -0.096653\n",
       "GOOG   -0.091307\n",
       "IBM    -0.010421\n",
       "KO      0.224140\n",
       "MCD    -0.137251\n",
       "MSFT    0.088741\n",
       "NKE     0.117603\n",
       "WMT    -0.149737\n",
       "dtype: float64"
      ]
     },
     "execution_count": 377,
     "metadata": {},
     "output_type": "execute_result"
    }
   ],
   "source": [
    "# calculate the average returns for each stock (annualized)\n",
    "avg_returns=(1+avg_returns)**12-1\n",
    "avg_returns"
   ]
  },
  {
   "cell_type": "code",
   "execution_count": 361,
   "id": "2b7eded0",
   "metadata": {
    "ExecuteTime": {
     "end_time": "2023-04-02T21:00:59.079950Z",
     "start_time": "2023-04-02T21:00:59.063058Z"
    }
   },
   "outputs": [
    {
     "data": {
      "text/html": [
       "<div>\n",
       "<style scoped>\n",
       "    .dataframe tbody tr th:only-of-type {\n",
       "        vertical-align: middle;\n",
       "    }\n",
       "\n",
       "    .dataframe tbody tr th {\n",
       "        vertical-align: top;\n",
       "    }\n",
       "\n",
       "    .dataframe thead th {\n",
       "        text-align: right;\n",
       "    }\n",
       "</style>\n",
       "<table border=\"1\" class=\"dataframe\">\n",
       "  <thead>\n",
       "    <tr style=\"text-align: right;\">\n",
       "      <th></th>\n",
       "      <th>WMT</th>\n",
       "      <th>NKE</th>\n",
       "      <th>BA</th>\n",
       "      <th>KO</th>\n",
       "      <th>CAT</th>\n",
       "      <th>MCD</th>\n",
       "      <th>IBM</th>\n",
       "      <th>DIS</th>\n",
       "      <th>GOOG</th>\n",
       "      <th>AMZN</th>\n",
       "      <th>MSFT</th>\n",
       "    </tr>\n",
       "  </thead>\n",
       "  <tbody>\n",
       "    <tr>\n",
       "      <th>WMT</th>\n",
       "      <td>0.000125</td>\n",
       "      <td>0.000054</td>\n",
       "      <td>0.000039</td>\n",
       "      <td>0.000050</td>\n",
       "      <td>0.000018</td>\n",
       "      <td>0.000051</td>\n",
       "      <td>0.000046</td>\n",
       "      <td>0.000069</td>\n",
       "      <td>-0.000011</td>\n",
       "      <td>-0.000107</td>\n",
       "      <td>0.000060</td>\n",
       "    </tr>\n",
       "    <tr>\n",
       "      <th>NKE</th>\n",
       "      <td>0.000054</td>\n",
       "      <td>0.000480</td>\n",
       "      <td>0.000103</td>\n",
       "      <td>0.000061</td>\n",
       "      <td>0.000077</td>\n",
       "      <td>0.000019</td>\n",
       "      <td>0.000047</td>\n",
       "      <td>0.000077</td>\n",
       "      <td>0.000037</td>\n",
       "      <td>0.000016</td>\n",
       "      <td>0.000089</td>\n",
       "    </tr>\n",
       "    <tr>\n",
       "      <th>BA</th>\n",
       "      <td>0.000039</td>\n",
       "      <td>0.000103</td>\n",
       "      <td>0.000182</td>\n",
       "      <td>0.000057</td>\n",
       "      <td>0.000095</td>\n",
       "      <td>0.000018</td>\n",
       "      <td>0.000060</td>\n",
       "      <td>0.000054</td>\n",
       "      <td>0.000067</td>\n",
       "      <td>0.000035</td>\n",
       "      <td>0.000114</td>\n",
       "    </tr>\n",
       "    <tr>\n",
       "      <th>KO</th>\n",
       "      <td>0.000050</td>\n",
       "      <td>0.000061</td>\n",
       "      <td>0.000057</td>\n",
       "      <td>0.000082</td>\n",
       "      <td>0.000032</td>\n",
       "      <td>0.000023</td>\n",
       "      <td>0.000038</td>\n",
       "      <td>0.000033</td>\n",
       "      <td>0.000012</td>\n",
       "      <td>0.000010</td>\n",
       "      <td>0.000053</td>\n",
       "    </tr>\n",
       "    <tr>\n",
       "      <th>CAT</th>\n",
       "      <td>0.000018</td>\n",
       "      <td>0.000077</td>\n",
       "      <td>0.000095</td>\n",
       "      <td>0.000032</td>\n",
       "      <td>0.000233</td>\n",
       "      <td>0.000017</td>\n",
       "      <td>0.000063</td>\n",
       "      <td>0.000044</td>\n",
       "      <td>0.000063</td>\n",
       "      <td>0.000032</td>\n",
       "      <td>0.000080</td>\n",
       "    </tr>\n",
       "    <tr>\n",
       "      <th>MCD</th>\n",
       "      <td>0.000051</td>\n",
       "      <td>0.000019</td>\n",
       "      <td>0.000018</td>\n",
       "      <td>0.000023</td>\n",
       "      <td>0.000017</td>\n",
       "      <td>0.000103</td>\n",
       "      <td>0.000021</td>\n",
       "      <td>0.000037</td>\n",
       "      <td>-0.000018</td>\n",
       "      <td>-0.000035</td>\n",
       "      <td>0.000018</td>\n",
       "    </tr>\n",
       "    <tr>\n",
       "      <th>IBM</th>\n",
       "      <td>0.000046</td>\n",
       "      <td>0.000047</td>\n",
       "      <td>0.000060</td>\n",
       "      <td>0.000038</td>\n",
       "      <td>0.000063</td>\n",
       "      <td>0.000021</td>\n",
       "      <td>0.000084</td>\n",
       "      <td>0.000036</td>\n",
       "      <td>0.000015</td>\n",
       "      <td>-0.000011</td>\n",
       "      <td>0.000076</td>\n",
       "    </tr>\n",
       "    <tr>\n",
       "      <th>DIS</th>\n",
       "      <td>0.000069</td>\n",
       "      <td>0.000077</td>\n",
       "      <td>0.000054</td>\n",
       "      <td>0.000033</td>\n",
       "      <td>0.000044</td>\n",
       "      <td>0.000037</td>\n",
       "      <td>0.000036</td>\n",
       "      <td>0.000101</td>\n",
       "      <td>0.000046</td>\n",
       "      <td>-0.000020</td>\n",
       "      <td>0.000059</td>\n",
       "    </tr>\n",
       "    <tr>\n",
       "      <th>GOOG</th>\n",
       "      <td>-0.000011</td>\n",
       "      <td>0.000037</td>\n",
       "      <td>0.000067</td>\n",
       "      <td>0.000012</td>\n",
       "      <td>0.000063</td>\n",
       "      <td>-0.000018</td>\n",
       "      <td>0.000015</td>\n",
       "      <td>0.000046</td>\n",
       "      <td>0.000302</td>\n",
       "      <td>0.000134</td>\n",
       "      <td>0.000075</td>\n",
       "    </tr>\n",
       "    <tr>\n",
       "      <th>AMZN</th>\n",
       "      <td>-0.000107</td>\n",
       "      <td>0.000016</td>\n",
       "      <td>0.000035</td>\n",
       "      <td>0.000010</td>\n",
       "      <td>0.000032</td>\n",
       "      <td>-0.000035</td>\n",
       "      <td>-0.000011</td>\n",
       "      <td>-0.000020</td>\n",
       "      <td>0.000134</td>\n",
       "      <td>0.000815</td>\n",
       "      <td>-0.000099</td>\n",
       "    </tr>\n",
       "    <tr>\n",
       "      <th>MSFT</th>\n",
       "      <td>0.000060</td>\n",
       "      <td>0.000089</td>\n",
       "      <td>0.000114</td>\n",
       "      <td>0.000053</td>\n",
       "      <td>0.000080</td>\n",
       "      <td>0.000018</td>\n",
       "      <td>0.000076</td>\n",
       "      <td>0.000059</td>\n",
       "      <td>0.000075</td>\n",
       "      <td>-0.000099</td>\n",
       "      <td>0.000203</td>\n",
       "    </tr>\n",
       "  </tbody>\n",
       "</table>\n",
       "</div>"
      ],
      "text/plain": [
       "           WMT       NKE        BA        KO       CAT       MCD       IBM  \\\n",
       "WMT   0.000125  0.000054  0.000039  0.000050  0.000018  0.000051  0.000046   \n",
       "NKE   0.000054  0.000480  0.000103  0.000061  0.000077  0.000019  0.000047   \n",
       "BA    0.000039  0.000103  0.000182  0.000057  0.000095  0.000018  0.000060   \n",
       "KO    0.000050  0.000061  0.000057  0.000082  0.000032  0.000023  0.000038   \n",
       "CAT   0.000018  0.000077  0.000095  0.000032  0.000233  0.000017  0.000063   \n",
       "MCD   0.000051  0.000019  0.000018  0.000023  0.000017  0.000103  0.000021   \n",
       "IBM   0.000046  0.000047  0.000060  0.000038  0.000063  0.000021  0.000084   \n",
       "DIS   0.000069  0.000077  0.000054  0.000033  0.000044  0.000037  0.000036   \n",
       "GOOG -0.000011  0.000037  0.000067  0.000012  0.000063 -0.000018  0.000015   \n",
       "AMZN -0.000107  0.000016  0.000035  0.000010  0.000032 -0.000035 -0.000011   \n",
       "MSFT  0.000060  0.000089  0.000114  0.000053  0.000080  0.000018  0.000076   \n",
       "\n",
       "           DIS      GOOG      AMZN      MSFT  \n",
       "WMT   0.000069 -0.000011 -0.000107  0.000060  \n",
       "NKE   0.000077  0.000037  0.000016  0.000089  \n",
       "BA    0.000054  0.000067  0.000035  0.000114  \n",
       "KO    0.000033  0.000012  0.000010  0.000053  \n",
       "CAT   0.000044  0.000063  0.000032  0.000080  \n",
       "MCD   0.000037 -0.000018 -0.000035  0.000018  \n",
       "IBM   0.000036  0.000015 -0.000011  0.000076  \n",
       "DIS   0.000101  0.000046 -0.000020  0.000059  \n",
       "GOOG  0.000046  0.000302  0.000134  0.000075  \n",
       "AMZN -0.000020  0.000134  0.000815 -0.000099  \n",
       "MSFT  0.000059  0.000075 -0.000099  0.000203  "
      ]
     },
     "execution_count": 361,
     "metadata": {},
     "output_type": "execute_result"
    }
   ],
   "source": [
    "cov_matrix"
   ]
  },
  {
   "cell_type": "code",
   "execution_count": 379,
   "id": "db820f9c",
   "metadata": {
    "ExecuteTime": {
     "end_time": "2023-04-02T21:08:13.470005Z",
     "start_time": "2023-04-02T21:08:13.165079Z"
    }
   },
   "outputs": [
    {
     "data": {
      "application/javascript": [
       "\n",
       "        if (window._pyforest_update_imports_cell) { window._pyforest_update_imports_cell('import seaborn as sns'); }\n",
       "    "
      ],
      "text/plain": [
       "<IPython.core.display.Javascript object>"
      ]
     },
     "metadata": {},
     "output_type": "display_data"
    },
    {
     "data": {
      "application/javascript": [
       "\n",
       "        if (window._pyforest_update_imports_cell) { window._pyforest_update_imports_cell('import seaborn as sns'); }\n",
       "    "
      ],
      "text/plain": [
       "<IPython.core.display.Javascript object>"
      ]
     },
     "metadata": {},
     "output_type": "display_data"
    },
    {
     "data": {
      "image/png": "[encoded data removed]",
      "text/plain": [
       "<Figure size 800x400 with 1 Axes>"
      ]
     },
     "metadata": {},
     "output_type": "display_data"
    }
   ],
   "source": [
    "# visualize the average returns\n",
    "plt.figure(figsize=(8, 4))\n",
    "sns.set(style='whitegrid')\n",
    "ax = sns.barplot(x=avg_returns.index, y=avg_returns.values, color='blue')\n",
    "ax.set(xlabel='Stock', ylabel='Average Returns (Annualized)')\n",
    "plt.title('Average Returns for Each Stock')\n",
    "plt.show()\n"
   ]
  },
  {
   "cell_type": "code",
   "execution_count": 380,
   "id": "4e9d1a37",
   "metadata": {
    "ExecuteTime": {
     "end_time": "2023-04-02T21:08:29.579554Z",
     "start_time": "2023-04-02T21:08:28.981160Z"
    }
   },
   "outputs": [
    {
     "data": {
      "application/javascript": [
       "\n",
       "        if (window._pyforest_update_imports_cell) { window._pyforest_update_imports_cell('import seaborn as sns'); }\n",
       "    "
      ],
      "text/plain": [
       "<IPython.core.display.Javascript object>"
      ]
     },
     "metadata": {},
     "output_type": "display_data"
    },
    {
     "data": {
      "application/javascript": [
       "\n",
       "        if (window._pyforest_update_imports_cell) { window._pyforest_update_imports_cell('import seaborn as sns'); }\n",
       "    "
      ],
      "text/plain": [
       "<IPython.core.display.Javascript object>"
      ]
     },
     "metadata": {},
     "output_type": "display_data"
    },
    {
     "data": {
      "image/png": "[encoded data removed]",
      "text/plain": [
       "<Figure size 2000x1800 with 2 Axes>"
      ]
     },
     "metadata": {},
     "output_type": "display_data"
    }
   ],
   "source": [
    "# visualize the covariance matrix\n",
    "plt.figure(figsize=(20, 18))\n",
    "sns.set(font_scale=1.2)\n",
    "sns.heatmap(cov_matrix, cmap='coolwarm', annot=True, fmt=\".4f\")\n",
    "plt.title('Covariance Matrix (Monthly Returns)')\n",
    "plt.show()"
   ]
  },
  {
   "cell_type": "markdown",
   "id": "3f25a1f8",
   "metadata": {},
   "source": [
    "#### C) Simulate 50,000 randomly chosen portfolios that put different weights in each of the stocks above and calculate the expected return and standard deviation of those portfolios\n",
    " - Note that your weights must sum to 1\n",
    " - Store the expected return, standard deviation, and weights for each simulation, as you will need it for later parts"
   ]
  },
  {
   "cell_type": "code",
   "execution_count": 382,
   "id": "2737c908",
   "metadata": {
    "ExecuteTime": {
     "end_time": "2023-04-02T21:09:53.070012Z",
     "start_time": "2023-04-02T21:09:53.062732Z"
    }
   },
   "outputs": [],
   "source": [
    "# create a new DataFrame with the daily returns and tickers as columns\n",
    "df = data.pct_change().dropna()"
   ]
  },
  {
   "cell_type": "code",
   "execution_count": 383,
   "id": "4a811992",
   "metadata": {
    "ExecuteTime": {
     "end_time": "2023-04-02T21:10:11.589369Z",
     "start_time": "2023-04-02T21:10:11.584197Z"
    }
   },
   "outputs": [],
   "source": [
    "avg_returns=df.mean()"
   ]
  },
  {
   "cell_type": "code",
   "execution_count": 384,
   "id": "f49ed9da",
   "metadata": {
    "ExecuteTime": {
     "end_time": "2023-04-02T21:10:19.815024Z",
     "start_time": "2023-04-02T21:10:19.807824Z"
    }
   },
   "outputs": [
    {
     "data": {
      "text/plain": [
       "AMZN    0.001194\n",
       "BA      0.000795\n",
       "CAT     0.000582\n",
       "DIS     0.000551\n",
       "GOOG    0.000693\n",
       "IBM     0.000006\n",
       "KO      0.000372\n",
       "MCD     0.000640\n",
       "MSFT    0.001150\n",
       "NKE     0.000780\n",
       "WMT     0.000443\n",
       "dtype: float64"
      ]
     },
     "execution_count": 384,
     "metadata": {},
     "output_type": "execute_result"
    }
   ],
   "source": [
    "#daily average returns\n",
    "avg_returns"
   ]
  },
  {
   "cell_type": "code",
   "execution_count": 385,
   "id": "7898f21a",
   "metadata": {
    "ExecuteTime": {
     "end_time": "2023-04-02T21:10:51.123721Z",
     "start_time": "2023-04-02T21:10:42.155046Z"
    }
   },
   "outputs": [
    {
     "data": {
      "text/html": [
       "<div>\n",
       "<style scoped>\n",
       "    .dataframe tbody tr th:only-of-type {\n",
       "        vertical-align: middle;\n",
       "    }\n",
       "\n",
       "    .dataframe tbody tr th {\n",
       "        vertical-align: top;\n",
       "    }\n",
       "\n",
       "    .dataframe thead th {\n",
       "        text-align: right;\n",
       "    }\n",
       "</style>\n",
       "<table border=\"1\" class=\"dataframe\">\n",
       "  <thead>\n",
       "    <tr style=\"text-align: right;\">\n",
       "      <th></th>\n",
       "      <th>WMT</th>\n",
       "      <th>NKE</th>\n",
       "      <th>BA</th>\n",
       "      <th>KO</th>\n",
       "      <th>CAT</th>\n",
       "      <th>MCD</th>\n",
       "      <th>IBM</th>\n",
       "      <th>DIS</th>\n",
       "      <th>GOOG</th>\n",
       "      <th>AMZN</th>\n",
       "      <th>MSFT</th>\n",
       "      <th>return</th>\n",
       "      <th>std_dev</th>\n",
       "      <th>sharpe_ratio</th>\n",
       "    </tr>\n",
       "  </thead>\n",
       "  <tbody>\n",
       "    <tr>\n",
       "      <th>0</th>\n",
       "      <td>0.030130</td>\n",
       "      <td>0.026574</td>\n",
       "      <td>0.082550</td>\n",
       "      <td>0.081353</td>\n",
       "      <td>0.069962</td>\n",
       "      <td>0.162794</td>\n",
       "      <td>0.119333</td>\n",
       "      <td>0.062352</td>\n",
       "      <td>0.139945</td>\n",
       "      <td>0.052359</td>\n",
       "      <td>0.172648</td>\n",
       "      <td>0.000562</td>\n",
       "      <td>0.007481</td>\n",
       "      <td>0.075123</td>\n",
       "    </tr>\n",
       "    <tr>\n",
       "      <th>1</th>\n",
       "      <td>0.188392</td>\n",
       "      <td>0.026824</td>\n",
       "      <td>0.033626</td>\n",
       "      <td>0.133830</td>\n",
       "      <td>0.059792</td>\n",
       "      <td>0.159632</td>\n",
       "      <td>0.035850</td>\n",
       "      <td>0.047925</td>\n",
       "      <td>0.105398</td>\n",
       "      <td>0.044933</td>\n",
       "      <td>0.163798</td>\n",
       "      <td>0.000655</td>\n",
       "      <td>0.007109</td>\n",
       "      <td>0.092093</td>\n",
       "    </tr>\n",
       "    <tr>\n",
       "      <th>2</th>\n",
       "      <td>0.155646</td>\n",
       "      <td>0.072551</td>\n",
       "      <td>0.046844</td>\n",
       "      <td>0.121284</td>\n",
       "      <td>0.132707</td>\n",
       "      <td>0.077604</td>\n",
       "      <td>0.105850</td>\n",
       "      <td>0.093983</td>\n",
       "      <td>0.039569</td>\n",
       "      <td>0.069312</td>\n",
       "      <td>0.084650</td>\n",
       "      <td>0.000667</td>\n",
       "      <td>0.007321</td>\n",
       "      <td>0.091057</td>\n",
       "    </tr>\n",
       "    <tr>\n",
       "      <th>3</th>\n",
       "      <td>0.149294</td>\n",
       "      <td>0.010272</td>\n",
       "      <td>0.170562</td>\n",
       "      <td>0.105270</td>\n",
       "      <td>0.004711</td>\n",
       "      <td>0.194053</td>\n",
       "      <td>0.197564</td>\n",
       "      <td>0.011936</td>\n",
       "      <td>0.018294</td>\n",
       "      <td>0.056332</td>\n",
       "      <td>0.081714</td>\n",
       "      <td>0.000530</td>\n",
       "      <td>0.007076</td>\n",
       "      <td>0.074961</td>\n",
       "    </tr>\n",
       "    <tr>\n",
       "      <th>4</th>\n",
       "      <td>0.094197</td>\n",
       "      <td>0.074313</td>\n",
       "      <td>0.110757</td>\n",
       "      <td>0.184401</td>\n",
       "      <td>0.026258</td>\n",
       "      <td>0.183738</td>\n",
       "      <td>0.057635</td>\n",
       "      <td>0.042923</td>\n",
       "      <td>0.078904</td>\n",
       "      <td>0.055454</td>\n",
       "      <td>0.091420</td>\n",
       "      <td>0.000580</td>\n",
       "      <td>0.007122</td>\n",
       "      <td>0.081482</td>\n",
       "    </tr>\n",
       "  </tbody>\n",
       "</table>\n",
       "</div>"
      ],
      "text/plain": [
       "        WMT       NKE        BA        KO       CAT       MCD       IBM  \\\n",
       "0  0.030130  0.026574  0.082550  0.081353  0.069962  0.162794  0.119333   \n",
       "1  0.188392  0.026824  0.033626  0.133830  0.059792  0.159632  0.035850   \n",
       "2  0.155646  0.072551  0.046844  0.121284  0.132707  0.077604  0.105850   \n",
       "3  0.149294  0.010272  0.170562  0.105270  0.004711  0.194053  0.197564   \n",
       "4  0.094197  0.074313  0.110757  0.184401  0.026258  0.183738  0.057635   \n",
       "\n",
       "        DIS      GOOG      AMZN      MSFT    return   std_dev  sharpe_ratio  \n",
       "0  0.062352  0.139945  0.052359  0.172648  0.000562  0.007481      0.075123  \n",
       "1  0.047925  0.105398  0.044933  0.163798  0.000655  0.007109      0.092093  \n",
       "2  0.093983  0.039569  0.069312  0.084650  0.000667  0.007321      0.091057  \n",
       "3  0.011936  0.018294  0.056332  0.081714  0.000530  0.007076      0.074961  \n",
       "4  0.042923  0.078904  0.055454  0.091420  0.000580  0.007122      0.081482  "
      ]
     },
     "execution_count": 385,
     "metadata": {},
     "output_type": "execute_result"
    }
   ],
   "source": [
    "# simulate 50,000 portfolios\n",
    "n_portfolios = 50000\n",
    "results = np.zeros((n_portfolios, 3 + len(tickers)))\n",
    "for i in range(n_portfolios):\n",
    "    # generate random weights for each stock\n",
    "    weights = np.random.random(len(tickers))\n",
    "    weights /= np.sum(weights)  # ensure weights sum to 1\n",
    "\n",
    "    # calculate the expected return and standard deviation of the portfolio\n",
    "    portfolio_return = np.sum(weights * avg_returns)\n",
    "    portfolio_std_dev = np.sqrt(np.dot(weights.T, np.dot(cov_matrix, weights)))\n",
    "\n",
    "    # store the results in the results array\n",
    "    results[i, :len(tickers)] = weights\n",
    "    results[i, len(tickers)] = portfolio_return\n",
    "    results[i, len(tickers) + 1] = portfolio_std_dev\n",
    "    results[i, len(tickers) + 2] = results[i, len(tickers)] / results[i, len(tickers) + 1]\n",
    "\n",
    "# create a DataFrame with the simulation results\n",
    "columns = tickers + ['return', 'std_dev', 'sharpe_ratio']\n",
    "results_df = pd.DataFrame(results, columns=columns)\n",
    "\n",
    "# print the first 5 rows of the results DataFrame\n",
    "results_df.head()\n"
   ]
  },
  {
   "cell_type": "code",
   "execution_count": 386,
   "id": "194aea6f",
   "metadata": {
    "ExecuteTime": {
     "end_time": "2023-04-02T21:10:51.512409Z",
     "start_time": "2023-04-02T21:10:51.501088Z"
    }
   },
   "outputs": [],
   "source": [
    "annualized_simulation_df = results_df.copy()\n",
    "annualized_simulation_df[\"Expected Annualized Return\"] = (1+results_df[\"return\"])**(252) -1\n",
    "annualized_simulation_df[\"Expected Annualized Standard Deviation\"] = results_df[\"std_dev\"] * np.sqrt(252)\n",
    "annualized_simulation_df[\"Volitility\"] = results_df[\"std_dev\"] **2\n"
   ]
  },
  {
   "cell_type": "code",
   "execution_count": 387,
   "id": "0269948c",
   "metadata": {
    "ExecuteTime": {
     "end_time": "2023-04-02T21:10:51.789894Z",
     "start_time": "2023-04-02T21:10:51.776062Z"
    }
   },
   "outputs": [
    {
     "data": {
      "text/html": [
       "<div>\n",
       "<style scoped>\n",
       "    .dataframe tbody tr th:only-of-type {\n",
       "        vertical-align: middle;\n",
       "    }\n",
       "\n",
       "    .dataframe tbody tr th {\n",
       "        vertical-align: top;\n",
       "    }\n",
       "\n",
       "    .dataframe thead th {\n",
       "        text-align: right;\n",
       "    }\n",
       "</style>\n",
       "<table border=\"1\" class=\"dataframe\">\n",
       "  <thead>\n",
       "    <tr style=\"text-align: right;\">\n",
       "      <th></th>\n",
       "      <th>WMT</th>\n",
       "      <th>NKE</th>\n",
       "      <th>BA</th>\n",
       "      <th>KO</th>\n",
       "      <th>CAT</th>\n",
       "      <th>MCD</th>\n",
       "      <th>IBM</th>\n",
       "      <th>DIS</th>\n",
       "      <th>GOOG</th>\n",
       "      <th>AMZN</th>\n",
       "      <th>MSFT</th>\n",
       "      <th>return</th>\n",
       "      <th>std_dev</th>\n",
       "      <th>sharpe_ratio</th>\n",
       "      <th>Expected Annualized Return</th>\n",
       "      <th>Expected Annualized Standard Deviation</th>\n",
       "      <th>Volitility</th>\n",
       "    </tr>\n",
       "  </thead>\n",
       "  <tbody>\n",
       "    <tr>\n",
       "      <th>0</th>\n",
       "      <td>0.030130</td>\n",
       "      <td>0.026574</td>\n",
       "      <td>0.082550</td>\n",
       "      <td>0.081353</td>\n",
       "      <td>0.069962</td>\n",
       "      <td>0.162794</td>\n",
       "      <td>0.119333</td>\n",
       "      <td>0.062352</td>\n",
       "      <td>0.139945</td>\n",
       "      <td>0.052359</td>\n",
       "      <td>0.172648</td>\n",
       "      <td>0.000562</td>\n",
       "      <td>0.007481</td>\n",
       "      <td>0.075123</td>\n",
       "      <td>0.152087</td>\n",
       "      <td>0.118751</td>\n",
       "      <td>0.000056</td>\n",
       "    </tr>\n",
       "    <tr>\n",
       "      <th>1</th>\n",
       "      <td>0.188392</td>\n",
       "      <td>0.026824</td>\n",
       "      <td>0.033626</td>\n",
       "      <td>0.133830</td>\n",
       "      <td>0.059792</td>\n",
       "      <td>0.159632</td>\n",
       "      <td>0.035850</td>\n",
       "      <td>0.047925</td>\n",
       "      <td>0.105398</td>\n",
       "      <td>0.044933</td>\n",
       "      <td>0.163798</td>\n",
       "      <td>0.000655</td>\n",
       "      <td>0.007109</td>\n",
       "      <td>0.092093</td>\n",
       "      <td>0.179318</td>\n",
       "      <td>0.112858</td>\n",
       "      <td>0.000051</td>\n",
       "    </tr>\n",
       "    <tr>\n",
       "      <th>2</th>\n",
       "      <td>0.155646</td>\n",
       "      <td>0.072551</td>\n",
       "      <td>0.046844</td>\n",
       "      <td>0.121284</td>\n",
       "      <td>0.132707</td>\n",
       "      <td>0.077604</td>\n",
       "      <td>0.105850</td>\n",
       "      <td>0.093983</td>\n",
       "      <td>0.039569</td>\n",
       "      <td>0.069312</td>\n",
       "      <td>0.084650</td>\n",
       "      <td>0.000667</td>\n",
       "      <td>0.007321</td>\n",
       "      <td>0.091057</td>\n",
       "      <td>0.182853</td>\n",
       "      <td>0.116213</td>\n",
       "      <td>0.000054</td>\n",
       "    </tr>\n",
       "    <tr>\n",
       "      <th>3</th>\n",
       "      <td>0.149294</td>\n",
       "      <td>0.010272</td>\n",
       "      <td>0.170562</td>\n",
       "      <td>0.105270</td>\n",
       "      <td>0.004711</td>\n",
       "      <td>0.194053</td>\n",
       "      <td>0.197564</td>\n",
       "      <td>0.011936</td>\n",
       "      <td>0.018294</td>\n",
       "      <td>0.056332</td>\n",
       "      <td>0.081714</td>\n",
       "      <td>0.000530</td>\n",
       "      <td>0.007076</td>\n",
       "      <td>0.074961</td>\n",
       "      <td>0.142965</td>\n",
       "      <td>0.112323</td>\n",
       "      <td>0.000050</td>\n",
       "    </tr>\n",
       "    <tr>\n",
       "      <th>4</th>\n",
       "      <td>0.094197</td>\n",
       "      <td>0.074313</td>\n",
       "      <td>0.110757</td>\n",
       "      <td>0.184401</td>\n",
       "      <td>0.026258</td>\n",
       "      <td>0.183738</td>\n",
       "      <td>0.057635</td>\n",
       "      <td>0.042923</td>\n",
       "      <td>0.078904</td>\n",
       "      <td>0.055454</td>\n",
       "      <td>0.091420</td>\n",
       "      <td>0.000580</td>\n",
       "      <td>0.007122</td>\n",
       "      <td>0.081482</td>\n",
       "      <td>0.157430</td>\n",
       "      <td>0.113062</td>\n",
       "      <td>0.000051</td>\n",
       "    </tr>\n",
       "  </tbody>\n",
       "</table>\n",
       "</div>"
      ],
      "text/plain": [
       "        WMT       NKE        BA        KO       CAT       MCD       IBM  \\\n",
       "0  0.030130  0.026574  0.082550  0.081353  0.069962  0.162794  0.119333   \n",
       "1  0.188392  0.026824  0.033626  0.133830  0.059792  0.159632  0.035850   \n",
       "2  0.155646  0.072551  0.046844  0.121284  0.132707  0.077604  0.105850   \n",
       "3  0.149294  0.010272  0.170562  0.105270  0.004711  0.194053  0.197564   \n",
       "4  0.094197  0.074313  0.110757  0.184401  0.026258  0.183738  0.057635   \n",
       "\n",
       "        DIS      GOOG      AMZN      MSFT    return   std_dev  sharpe_ratio  \\\n",
       "0  0.062352  0.139945  0.052359  0.172648  0.000562  0.007481      0.075123   \n",
       "1  0.047925  0.105398  0.044933  0.163798  0.000655  0.007109      0.092093   \n",
       "2  0.093983  0.039569  0.069312  0.084650  0.000667  0.007321      0.091057   \n",
       "3  0.011936  0.018294  0.056332  0.081714  0.000530  0.007076      0.074961   \n",
       "4  0.042923  0.078904  0.055454  0.091420  0.000580  0.007122      0.081482   \n",
       "\n",
       "   Expected Annualized Return  Expected Annualized Standard Deviation  \\\n",
       "0                    0.152087                                0.118751   \n",
       "1                    0.179318                                0.112858   \n",
       "2                    0.182853                                0.116213   \n",
       "3                    0.142965                                0.112323   \n",
       "4                    0.157430                                0.113062   \n",
       "\n",
       "   Volitility  \n",
       "0    0.000056  \n",
       "1    0.000051  \n",
       "2    0.000054  \n",
       "3    0.000050  \n",
       "4    0.000051  "
      ]
     },
     "execution_count": 387,
     "metadata": {},
     "output_type": "execute_result"
    }
   ],
   "source": [
    "annualized_simulation_df.head()"
   ]
  },
  {
   "cell_type": "markdown",
   "id": "7c2792a5",
   "metadata": {},
   "source": [
    "#### D) Graph a scatterplot of the simulated portfolio standard deviation on the x-axis and the simulated portfolio expected return on the y-axis\n",
    "\n",
    "- Color the graph such that higher Sharpe Ratio portfolios are darker (like in class, assume a risk-free rate of 0 for now)\n",
    "- Include orange/yellow dots for the location of each individual stock (i.e. 100% weight on stock $i$, 0% on the others)\n",
    "- Annotate the points on the graph appropriately so each ticker is clearly labeled"
   ]
  },
  {
   "cell_type": "code",
   "execution_count": 388,
   "id": "83fc2be5",
   "metadata": {
    "ExecuteTime": {
     "end_time": "2023-04-02T21:11:02.657264Z",
     "start_time": "2023-04-02T21:11:02.138780Z"
    }
   },
   "outputs": [
    {
     "data": {
      "image/png": "[encoded data removed]",
      "text/plain": [
       "<Figure size 640x480 with 2 Axes>"
      ]
     },
     "metadata": {},
     "output_type": "display_data"
    }
   ],
   "source": [
    "import matplotlib.pyplot as plt\n",
    "\n",
    "# set up the plot\n",
    "fig, ax = plt.subplots()\n",
    "\n",
    "# plot the scatterplot\n",
    "scatter = ax.scatter(\n",
    "    x=annualized_simulation_df[\"Expected Annualized Standard Deviation\"], \n",
    "    y=annualized_simulation_df[\"Expected Annualized Return\"], \n",
    "    c=annualized_simulation_df[\"sharpe_ratio\"], \n",
    "    cmap='YlOrRd',\n",
    "    alpha=0.7,\n",
    "    edgecolors='none',\n",
    ")\n",
    "\n",
    "# add colorbar\n",
    "cbar = fig.colorbar(scatter)\n",
    "cbar.set_label('Sharpe Ratio')\n",
    "\n",
    "# add orange/yellow dots for individual stocks\n",
    "for i, ticker in enumerate(tickers):\n",
    "    weight_mask = (annualized_simulation_df[ticker] == 1)\n",
    "    x = annualized_simulation_df.loc[weight_mask, \"Expected Annualized Standard Deviation\"].values\n",
    "    y = annualized_simulation_df.loc[weight_mask, \"Expected Annualized Return\"].values\n",
    "    ax.scatter(\n",
    "        x=x, \n",
    "        y=y, \n",
    "        c='orange', \n",
    "        alpha=0.7, \n",
    "        edgecolors='none', \n",
    "        label=ticker,\n",
    "        s=80\n",
    "    )\n",
    "\n",
    "    # annotate the dots\n",
    "    for j in range(len(x)):\n",
    "        ax.annotate(ticker, xy=(x[j], y[j]), xytext=(x[j]+0.001, y[j]+0.001))\n",
    "\n",
    "# set the axis labels and title\n",
    "ax.set_xlabel('Expected Annualized Standard Deviation')\n",
    "ax.set_ylabel('Expected Annualized Return')\n",
    "ax.set_title('Simulated Portfolio Returns and Volatility')\n",
    "\n",
    "# show the plot\n",
    "plt.show()\n"
   ]
  },
  {
   "cell_type": "markdown",
   "id": "599d6e02",
   "metadata": {},
   "source": [
    "#### E) Find the minimum variance portfolio *in your simulation*\n",
    "- That is, which one of your 50,000 simulations generated the portfolio with the smallest standard deviation?\n",
    "- Store and print the weights on each stock that generate this portfolio"
   ]
  },
  {
   "cell_type": "code",
   "execution_count": 289,
   "id": "f95e84a3",
   "metadata": {
    "ExecuteTime": {
     "end_time": "2023-04-02T20:48:12.595657Z",
     "start_time": "2023-04-02T20:48:12.590278Z"
    }
   },
   "outputs": [
    {
     "name": "stdout",
     "output_type": "stream",
     "text": [
      "Weights of minimum variance portfolio:\n",
      "WMT: 7.44%\n",
      "NKE: 2.06%\n",
      "BA: 3.93%\n",
      "KO: 24.69%\n",
      "CAT: 4.90%\n",
      "MCD: 27.42%\n",
      "IBM: 10.18%\n",
      "DIS: 6.39%\n",
      "GOOG: 6.89%\n",
      "AMZN: 4.38%\n",
      "MSFT: 1.71%\n"
     ]
    }
   ],
   "source": [
    "# Find the minimum variance portfolio\n",
    "min_var_portfolio = results_df.iloc[results_df['std_dev'].idxmin()]\n",
    "\n",
    "# Print the weights of the minimum variance portfolio\n",
    "print(\"Weights of minimum variance portfolio:\")\n",
    "for i in range(len(tickers)):\n",
    "    print(\"{}: {:.2f}%\".format(tickers[i], min_var_portfolio[i] * 100))"
   ]
  },
  {
   "cell_type": "markdown",
   "id": "cc76e1f2",
   "metadata": {},
   "source": [
    "#### F) Find the Global Minimum Variance (GMV) portfolio analytically\n",
    "- That is, not from your simulation. But, what are the weights that generate the lowest possible portfolio standard deviation for these stocks in this time period?\n",
    "- Store and print the weights of this portfolio."
   ]
  },
  {
   "cell_type": "code",
   "execution_count": 290,
   "id": "366a525f",
   "metadata": {
    "ExecuteTime": {
     "end_time": "2023-04-02T20:48:12.606568Z",
     "start_time": "2023-04-02T20:48:12.598893Z"
    }
   },
   "outputs": [
    {
     "name": "stdout",
     "output_type": "stream",
     "text": [
      "Weights of Global Minimum Variance portfolio:\n",
      "WMT: 3.64%\n",
      "NKE: -0.21%\n",
      "BA: -5.47%\n",
      "KO: 25.20%\n",
      "CAT: 2.01%\n",
      "MCD: 26.65%\n",
      "IBM: 25.85%\n",
      "DIS: 9.10%\n",
      "GOOG: 10.08%\n",
      "AMZN: 4.99%\n",
      "MSFT: -1.85%\n"
     ]
    }
   ],
   "source": [
    "# calculate the inverse of the covariance matrix\n",
    "inv_cov_matrix = np.linalg.inv(cov_matrix)\n",
    "\n",
    "# calculate the ones vector\n",
    "ones = np.ones((n_equities, 1))\n",
    "\n",
    "# calculate the numerator of the weight equation\n",
    "numerator = np.dot(inv_cov_matrix, ones)\n",
    "\n",
    "# calculate the denominator of the weight equation\n",
    "denominator = np.dot(np.dot(ones.T, inv_cov_matrix), ones)\n",
    "\n",
    "# calculate the weights of the GMV portfolio\n",
    "gmv_weights = numerator / denominator\n",
    "\n",
    "# print the weights of the GMV portfolio\n",
    "print(\"Weights of Global Minimum Variance portfolio:\")\n",
    "for i in range(len(tickers)):\n",
    "    print(\"{}: {:.2f}%\".format(tickers[i], gmv_weights[i][0] * 100))"
   ]
  },
  {
   "cell_type": "markdown",
   "id": "d77a27f1",
   "metadata": {},
   "source": [
    "#### G) Find the portfolio that is efficient but has the same return as AMZN\n",
    "- Store and print the weights that generate this portfolio"
   ]
  },
  {
   "cell_type": "code",
   "execution_count": 291,
   "id": "a7b5ca4d",
   "metadata": {
    "ExecuteTime": {
     "end_time": "2023-04-02T20:48:12.618639Z",
     "start_time": "2023-04-02T20:48:12.609177Z"
    }
   },
   "outputs": [],
   "source": [
    "# find the efficient portfolio with the same return as AMZN\n",
    "target_return = avg_returns['AMZN']\n",
    "efficient_portfolio = results_df.iloc[((results_df['return']-target_return)**2).argmin()]"
   ]
  },
  {
   "cell_type": "code",
   "execution_count": 292,
   "id": "4234247f",
   "metadata": {
    "ExecuteTime": {
     "end_time": "2023-04-02T20:48:12.627092Z",
     "start_time": "2023-04-02T20:48:12.621791Z"
    }
   },
   "outputs": [
    {
     "name": "stdout",
     "output_type": "stream",
     "text": [
      "Weights of efficient portfolio with same return as AMZN:\n",
      "WMT: 2.88%\n",
      "NKE: 12.77%\n",
      "BA: 0.22%\n",
      "KO: 15.78%\n",
      "CAT: 21.29%\n",
      "MCD: 0.09%\n",
      "IBM: 3.66%\n",
      "DIS: 1.95%\n",
      "GOOG: 3.88%\n",
      "AMZN: 21.02%\n",
      "MSFT: 16.48%\n"
     ]
    }
   ],
   "source": [
    "# print the weights of the efficient portfolio with the same return as AMZN\n",
    "print(\"Weights of efficient portfolio with same return as AMZN:\")\n",
    "for i in range(len(tickers)):\n",
    "    print(\"{}: {:.2f}%\".format(tickers[i], efficient_portfolio.values[i] * 100))\n",
    "    "
   ]
  },
  {
   "cell_type": "markdown",
   "id": "70998c00",
   "metadata": {},
   "source": [
    "#### H) Finding all efficient portfolios as combinations of two efficient portfolios\n",
    "\n",
    "Let $X$ and $Y$ be two efficient portfolios. We can find all efficient portfolios through linear combinations of $X$ and $Y$:\n",
    "- let $\\alpha$ be the weight invested in $X$. Define portfolio $Z = \\alpha X + (1-\\alpha) Y$\n",
    "- portfolio Z is efficient as long as $E[R_Z] > E[R_{GMV}]$, that is as long as the expected return of Z is greater than the expected return of the GMV portfolio\n",
    "\n",
    "In this section, you will create linear combinations of the two efficient portfolios you calculated above, the GMV and the efficient portfolio with the same return as AMZN. \n",
    "\n",
    "So let $X = $ the efficient portfolio with the same return as AMZN and $Y = $ the GMV portfolio "
   ]
  },
  {
   "cell_type": "markdown",
   "id": "10b8699b",
   "metadata": {},
   "source": [
    "- Define a numpy array $alpha$ that takes values from 0 to 3, increments of 0.1"
   ]
  },
  {
   "cell_type": "code",
   "execution_count": 293,
   "id": "94aa6d75",
   "metadata": {
    "ExecuteTime": {
     "end_time": "2023-04-02T20:48:12.645728Z",
     "start_time": "2023-04-02T20:48:12.630568Z"
    }
   },
   "outputs": [],
   "source": [
    "# Set X as the efficient portfolio with the same return as AMZN\n",
    "target_return = avg_returns['AMZN']\n",
    "X = results_df.iloc[((results_df['return']-target_return)**2).argmin()].values[:len(tickers)]\n",
    "\n"
   ]
  },
  {
   "cell_type": "code",
   "execution_count": 294,
   "id": "ced95cf7",
   "metadata": {
    "ExecuteTime": {
     "end_time": "2023-04-02T20:48:12.665182Z",
     "start_time": "2023-04-02T20:48:12.652131Z"
    }
   },
   "outputs": [],
   "source": [
    "# Set Y as the GMV portfolio\n",
    "Y = gmv_weights.flatten()\n"
   ]
  },
  {
   "cell_type": "code",
   "execution_count": 295,
   "id": "16880d83",
   "metadata": {
    "ExecuteTime": {
     "end_time": "2023-04-02T20:48:12.686536Z",
     "start_time": "2023-04-02T20:48:12.679203Z"
    }
   },
   "outputs": [],
   "source": [
    "# Define an array of alpha values\n",
    "alphas = np.arange(0, 3.1, 0.1)\n"
   ]
  },
  {
   "cell_type": "markdown",
   "id": "691fd67f",
   "metadata": {},
   "source": [
    "- $alpha$ will be the weight on X (the efficient portfolio with the same return as AMZN) and $1-alpha$ will be the weight on Y (the GMV portfolio)\n",
    "- Create two \"empty\" lists that will store the expected return and standard deviations of our efficient portfolios\n",
    "- Implement a for loop that loops through the array $alpha$\n",
    "- In the for loop:\n",
    "    - Define a variable $w$ that is equal to $alpha$ multiplied by the weights of X and $1-alpha$ multiplied by the weights of Y\n",
    "    - Calculate the portfolio expected return and standard deviation of a portfolio with weights $w$\n",
    "    - If this expected return is greater than the expected return of the GMV portfolio, it is efficient, so store the expected return and standard deviations in the two lists you created before the for loop\n",
    "\n",
    "- Convert the two lists into numpy arrays for easier operations later"
   ]
  },
  {
   "cell_type": "code",
   "execution_count": 296,
   "id": "f5bcde63",
   "metadata": {
    "ExecuteTime": {
     "end_time": "2023-04-02T20:48:12.700910Z",
     "start_time": "2023-04-02T20:48:12.690389Z"
    }
   },
   "outputs": [],
   "source": [
    "# create an empty numpy array to store the results\n",
    "results = np.zeros((len(alphas), len(X)+3))\n",
    "\n"
   ]
  },
  {
   "cell_type": "code",
   "execution_count": 297,
   "id": "296c46eb",
   "metadata": {
    "ExecuteTime": {
     "end_time": "2023-04-02T20:48:12.725424Z",
     "start_time": "2023-04-02T20:48:12.704531Z"
    }
   },
   "outputs": [],
   "source": [
    "# loop through the alpha values and calculate the weights of portfolio Z\n",
    "for i, alpha in enumerate(alphas):\n",
    "    weights = alpha*X + (1-alpha)*Y\n",
    "    expected_return = np.sum(weights * avg_returns)\n",
    "    portfolio_std_dev = np.sqrt(np.dot(weights.T, np.dot(cov_matrix, weights)))\n",
    "    sharpe_ratio = expected_return / portfolio_std_dev\n",
    "    results[i,:] = np.concatenate((weights, [expected_return, portfolio_std_dev, sharpe_ratio]))\n"
   ]
  },
  {
   "cell_type": "code",
   "execution_count": 298,
   "id": "02f021f4",
   "metadata": {
    "ExecuteTime": {
     "end_time": "2023-04-02T20:48:12.732133Z",
     "start_time": "2023-04-02T20:48:12.727129Z"
    }
   },
   "outputs": [],
   "source": [
    "# create a DataFrame with the simulation results\n",
    "columns = ['weight_'+str(i+1) for i in range(len(X))] + ['return', 'std_dev', 'sharpe_ratio']\n",
    "results_df = pd.DataFrame(results, columns=columns)\n"
   ]
  },
  {
   "cell_type": "code",
   "execution_count": 299,
   "id": "d811788a",
   "metadata": {
    "ExecuteTime": {
     "end_time": "2023-04-02T20:48:12.739569Z",
     "start_time": "2023-04-02T20:48:12.734553Z"
    }
   },
   "outputs": [],
   "source": [
    "# find the efficient frontier\n",
    "gmv_return = results_df['return'].min()\n",
    "efficient_frontier = results_df[results_df['return'] >= gmv_return]\n",
    "\n",
    "# print the efficient frontier\n",
    "#print(\"Efficient Frontier:\")\n",
    "# efficient_frontier\n"
   ]
  },
  {
   "cell_type": "markdown",
   "id": "55d51f69",
   "metadata": {},
   "source": [
    "#### I) Make a scatterplot of all the portfolios you created in this problem:\n",
    "- The simulated portfolios (color weighted by their Sharpe Ratio)\n",
    "- The individual tickers in a different color (annotated appropriately)\n",
    "- The GMV portfolio (as a red square)\n",
    "- The efficient portfolio with the same return as AMZN (as a blue dot)\n",
    "- All the efficient portfolios you found in the part H (as a red X)\n",
    "\n",
    "The x-axis is standard deviation and y-axis is expected return"
   ]
  },
  {
   "cell_type": "code",
   "execution_count": null,
   "id": "9bf740f5",
   "metadata": {
    "ExecuteTime": {
     "end_time": "2023-04-02T20:44:20.865739Z",
     "start_time": "2023-04-02T20:44:20.861821Z"
    }
   },
   "outputs": [],
   "source": []
  },
  {
   "cell_type": "markdown",
   "id": "e5e27256",
   "metadata": {},
   "source": [
    "# Question 2 - Expected Shortfall and Value at Risk"
   ]
  },
  {
   "cell_type": "markdown",
   "id": "d6326032",
   "metadata": {},
   "source": [
    "Calculate the 1%VaR and 1%ES for the U.S. stock market using monthly data for returns on the market portfolio from the Fama-French data website.\n",
    "\n",
    "1. Use Pandas DataReader to extract the 'F-F_Research_Data_Factors' dataset and keep only the monthly data (we want the entire time series)\n",
    "2. Calculate the market return each month (i.e. add the \"Rm-rf\" column with the \"RF\" column)\n",
    "3. What is the 1% VaR of the market return?\n",
    "4. Print the observations that are less than the 1% VaR\n",
    "5. What is the 1% ES of the market return?\n"
   ]
  },
  {
   "cell_type": "code",
   "execution_count": 300,
   "id": "8851f86c",
   "metadata": {
    "ExecuteTime": {
     "end_time": "2023-04-02T20:48:12.755891Z",
     "start_time": "2023-04-02T20:48:12.752610Z"
    }
   },
   "outputs": [],
   "source": [
    "import urllib.request\n",
    "import pandas_datareader.data as web\n",
    "import ssl\n",
    "import zipfile"
   ]
  },
  {
   "cell_type": "code",
   "execution_count": 301,
   "id": "709b5b41",
   "metadata": {
    "ExecuteTime": {
     "end_time": "2023-04-02T20:48:12.761008Z",
     "start_time": "2023-04-02T20:48:12.758142Z"
    }
   },
   "outputs": [],
   "source": [
    "# Disable SSL verification\n",
    "ssl._create_default_https_context = ssl._create_unverified_context\n"
   ]
  },
  {
   "cell_type": "code",
   "execution_count": 302,
   "id": "3a3e623a",
   "metadata": {
    "ExecuteTime": {
     "end_time": "2023-04-02T20:48:12.767182Z",
     "start_time": "2023-04-02T20:48:12.763987Z"
    }
   },
   "outputs": [],
   "source": [
    "# Define start and end dates\n",
    "start_date = '1926-07-01'\n",
    "end_date = '2022-12-31'\n"
   ]
  },
  {
   "cell_type": "code",
   "execution_count": 303,
   "id": "5f2bbb57",
   "metadata": {
    "ExecuteTime": {
     "end_time": "2023-04-02T20:48:12.978396Z",
     "start_time": "2023-04-02T20:48:12.769731Z"
    }
   },
   "outputs": [],
   "source": [
    "# Define the data source and the ticker symbol for the Fama-French data\n",
    "data_source = 'famafrench'\n",
    "tickers = ['F-F_Research_Data_Factors']\n",
    "\n",
    "# Convert tickers list to string\n",
    "tickers_str = ','.join(tickers)\n",
    "\n",
    "# Extract the data using Pandas DataReader\n",
    "ff_data = web.DataReader(tickers_str, data_source, start=start_date, end=end_date)[0]\n",
    "\n",
    "# Convert index to string\n",
    "ff_data.index = ff_data.index.astype(str)\n",
    "\n",
    "# Keep only the monthly data\n",
    "ff_data = ff_data[ff_data.index.str.endswith('01')]\n",
    "\n",
    "# Rename the columns\n",
    "ff_data = ff_data.rename(columns={'Mkt-RF': 'MKT', 'RF': 'RF', 'SMB': 'SMB', 'HML': 'HML'})\n",
    "\n",
    "# Filter the dataframe to only include data within the start and end dates\n",
    "ff_data = ff_data.loc[start_date:end_date]\n",
    "\n"
   ]
  },
  {
   "cell_type": "code",
   "execution_count": 304,
   "id": "d581c86c",
   "metadata": {
    "ExecuteTime": {
     "end_time": "2023-04-02T20:48:12.984740Z",
     "start_time": "2023-04-02T20:48:12.980506Z"
    }
   },
   "outputs": [],
   "source": [
    "# Rename the columns\n",
    "ff_data = ff_data.rename(columns={'MKT-RF': 'MKT', 'RF': 'RF', 'SMB': 'SMB', 'HML': 'HML'})\n",
    "\n",
    "# Calculate market return each month\n",
    "ff_data['MKT_return'] = ff_data['MKT'] + ff_data['RF']"
   ]
  },
  {
   "cell_type": "code",
   "execution_count": 305,
   "id": "7ed2bd93",
   "metadata": {
    "ExecuteTime": {
     "end_time": "2023-04-02T20:48:12.995446Z",
     "start_time": "2023-04-02T20:48:12.986825Z"
    }
   },
   "outputs": [
    {
     "data": {
      "text/html": [
       "<div>\n",
       "<style scoped>\n",
       "    .dataframe tbody tr th:only-of-type {\n",
       "        vertical-align: middle;\n",
       "    }\n",
       "\n",
       "    .dataframe tbody tr th {\n",
       "        vertical-align: top;\n",
       "    }\n",
       "\n",
       "    .dataframe thead th {\n",
       "        text-align: right;\n",
       "    }\n",
       "</style>\n",
       "<table border=\"1\" class=\"dataframe\">\n",
       "  <thead>\n",
       "    <tr style=\"text-align: right;\">\n",
       "      <th></th>\n",
       "      <th>MKT</th>\n",
       "      <th>SMB</th>\n",
       "      <th>HML</th>\n",
       "      <th>RF</th>\n",
       "      <th>MKT_return</th>\n",
       "    </tr>\n",
       "    <tr>\n",
       "      <th>Date</th>\n",
       "      <th></th>\n",
       "      <th></th>\n",
       "      <th></th>\n",
       "      <th></th>\n",
       "      <th></th>\n",
       "    </tr>\n",
       "  </thead>\n",
       "  <tbody>\n",
       "    <tr>\n",
       "      <th>1927-01</th>\n",
       "      <td>-0.06</td>\n",
       "      <td>-0.37</td>\n",
       "      <td>4.54</td>\n",
       "      <td>0.25</td>\n",
       "      <td>0.19</td>\n",
       "    </tr>\n",
       "    <tr>\n",
       "      <th>1928-01</th>\n",
       "      <td>-0.68</td>\n",
       "      <td>4.26</td>\n",
       "      <td>-0.75</td>\n",
       "      <td>0.25</td>\n",
       "      <td>-0.43</td>\n",
       "    </tr>\n",
       "    <tr>\n",
       "      <th>1929-01</th>\n",
       "      <td>4.66</td>\n",
       "      <td>-3.56</td>\n",
       "      <td>-1.24</td>\n",
       "      <td>0.34</td>\n",
       "      <td>5.00</td>\n",
       "    </tr>\n",
       "    <tr>\n",
       "      <th>1930-01</th>\n",
       "      <td>5.61</td>\n",
       "      <td>3.55</td>\n",
       "      <td>-0.96</td>\n",
       "      <td>0.14</td>\n",
       "      <td>5.75</td>\n",
       "    </tr>\n",
       "    <tr>\n",
       "      <th>1931-01</th>\n",
       "      <td>6.24</td>\n",
       "      <td>3.45</td>\n",
       "      <td>7.12</td>\n",
       "      <td>0.15</td>\n",
       "      <td>6.39</td>\n",
       "    </tr>\n",
       "  </tbody>\n",
       "</table>\n",
       "</div>"
      ],
      "text/plain": [
       "          MKT   SMB   HML    RF  MKT_return\n",
       "Date                                       \n",
       "1927-01 -0.06 -0.37  4.54  0.25        0.19\n",
       "1928-01 -0.68  4.26 -0.75  0.25       -0.43\n",
       "1929-01  4.66 -3.56 -1.24  0.34        5.00\n",
       "1930-01  5.61  3.55 -0.96  0.14        5.75\n",
       "1931-01  6.24  3.45  7.12  0.15        6.39"
      ]
     },
     "execution_count": 305,
     "metadata": {},
     "output_type": "execute_result"
    }
   ],
   "source": [
    "ff_data.head()"
   ]
  },
  {
   "cell_type": "code",
   "execution_count": 306,
   "id": "65ed6bdf",
   "metadata": {
    "ExecuteTime": {
     "end_time": "2023-04-02T20:48:13.002035Z",
     "start_time": "2023-04-02T20:48:12.997957Z"
    }
   },
   "outputs": [],
   "source": [
    "# Calculate the 1% VaR and 1% ES of the market return\n",
    "var_1pct = ff_data['MKT_return'].quantile(0.01)\n",
    "es_1pct = ff_data['MKT_return'][ff_data['MKT_return'] <= var_1pct].mean()\n"
   ]
  },
  {
   "cell_type": "code",
   "execution_count": 307,
   "id": "cd6e62f5",
   "metadata": {
    "ExecuteTime": {
     "end_time": "2023-04-02T20:48:13.011029Z",
     "start_time": "2023-04-02T20:48:13.005406Z"
    }
   },
   "outputs": [
    {
     "name": "stdout",
     "output_type": "stream",
     "text": [
      "Observations that are less than the 1% VaR:\n",
      "          MKT   SMB    HML   RF  MKT_return\n",
      "Date                                       \n",
      "2009-01 -8.12  0.08 -11.29  0.0       -8.12\n",
      "1% VaR of the market return: -7.531\n",
      "1% ES of the market return: -8.12\n"
     ]
    }
   ],
   "source": [
    "# Print the observations that are less than the 1% VaR\n",
    "print(\"Observations that are less than the 1% VaR:\")\n",
    "print(ff_data[ff_data['MKT_return'] <= var_1pct])\n",
    "\n",
    "# Print the 1% VaR and 1% ES\n",
    "print(\"1% VaR of the market return:\", var_1pct)\n",
    "print(\"1% ES of the market return:\", es_1pct)"
   ]
  },
  {
   "cell_type": "markdown",
   "id": "7bfae1c7",
   "metadata": {},
   "source": [
    "# Question 3\n",
    "\n",
    "In this question, you will calculate the $alpha$ from a 3-factor regression for each stock in the ticker list from Q1 and assess if any are statistically significant. Specifically the regression you will run for each stock is:\n",
    "\n",
    "$$ R_i^e = \\alpha_i + \\beta_{i,m} R_m^e + \\beta_{i,SMB} R_{SMB} + \\beta_{i,HML} R_{HML} + e_i $$\n",
    "- $R_i^e$ is stock excess return\n",
    "- $R_m^e$ is market excess return\n",
    "- $R_{SMB}$ is the excess return of the Small minus Big portfolio (firm size)\n",
    "- $R_{HML}$ is the excess return of the High minus Low portfolio (B/M ratio)\n",
    "\n",
    "- Excess returns are defined as the return minus the risk-free rate\n",
    "\n",
    "The sample period for the regression is the same as Question 1 (2014-2019).\n",
    "\n",
    "Follow these general steps:\n",
    "1. Merge the monthly returns from the tickers in Question 1 with the FamaFrench data in Question 2\n",
    "2. Calculate the excess returns of each stock in each month of the sample\n",
    "3. Calculate the 3-factor alpha for each stock by running the above regression for each stock. Store the alpha and the p-value.\n",
    "4. Which stocks (if any) have a statistically significant alpha at the 5% level?"
   ]
  },
  {
   "cell_type": "code",
   "execution_count": 308,
   "id": "d7f2c463",
   "metadata": {
    "ExecuteTime": {
     "end_time": "2023-04-02T20:48:13.154209Z",
     "start_time": "2023-04-02T20:48:13.013869Z"
    }
   },
   "outputs": [],
   "source": [
    "# Define start and end dates\n",
    "start_date = datetime.datetime(1926, 7, 1)\n",
    "end_date = datetime.datetime(2022, 12, 31)\n",
    "\n",
    "# Define the data source and the ticker symbol for the Fama-French data\n",
    "data_source = 'famafrench'\n",
    "tickers = ['F-F_Research_Data_Factors']\n",
    "\n",
    "# Convert tickers list to string\n",
    "tickers_str = ','.join(tickers)\n",
    "\n",
    "# Extract the data using Pandas DataReader\n",
    "ff_data = web.DataReader(tickers_str, data_source, start=start_date, end=end_date)[0]\n",
    "\n",
    "\n",
    "ff_data.index = pd.to_datetime(ff_data.index.to_timestamp().strftime('%Y-%m-%d'))\n",
    "\n",
    "\n",
    "# Rename the columns\n",
    "ff_data = ff_data.rename(columns={'Mkt-RF': 'MKT', 'RF': 'RF', 'SMB': 'SMB', 'HML': 'HML'})\n",
    "\n",
    "# Calculate market return each month\n",
    "ff_data['MKT_return'] = ff_data['MKT'] + ff_data['RF']\n",
    "\n",
    "# Keep only the monthly data\n",
    "ff_data = ff_data.resample('M').last()\n",
    "\n",
    "# Filter the dataframe to only include data within the start and end dates\n",
    "ff_data = ff_data.loc[start_date:end_date]"
   ]
  },
  {
   "cell_type": "code",
   "execution_count": 309,
   "id": "92c4af9d",
   "metadata": {
    "ExecuteTime": {
     "end_time": "2023-04-02T20:48:13.165026Z",
     "start_time": "2023-04-02T20:48:13.156053Z"
    }
   },
   "outputs": [
    {
     "data": {
      "text/html": [
       "<div>\n",
       "<style scoped>\n",
       "    .dataframe tbody tr th:only-of-type {\n",
       "        vertical-align: middle;\n",
       "    }\n",
       "\n",
       "    .dataframe tbody tr th {\n",
       "        vertical-align: top;\n",
       "    }\n",
       "\n",
       "    .dataframe thead th {\n",
       "        text-align: right;\n",
       "    }\n",
       "</style>\n",
       "<table border=\"1\" class=\"dataframe\">\n",
       "  <thead>\n",
       "    <tr style=\"text-align: right;\">\n",
       "      <th></th>\n",
       "      <th>MKT</th>\n",
       "      <th>SMB</th>\n",
       "      <th>HML</th>\n",
       "      <th>RF</th>\n",
       "      <th>MKT_return</th>\n",
       "    </tr>\n",
       "    <tr>\n",
       "      <th>Date</th>\n",
       "      <th></th>\n",
       "      <th></th>\n",
       "      <th></th>\n",
       "      <th></th>\n",
       "      <th></th>\n",
       "    </tr>\n",
       "  </thead>\n",
       "  <tbody>\n",
       "    <tr>\n",
       "      <th>2022-08-31</th>\n",
       "      <td>-3.77</td>\n",
       "      <td>1.37</td>\n",
       "      <td>0.30</td>\n",
       "      <td>0.19</td>\n",
       "      <td>-3.58</td>\n",
       "    </tr>\n",
       "    <tr>\n",
       "      <th>2022-09-30</th>\n",
       "      <td>-9.35</td>\n",
       "      <td>-0.79</td>\n",
       "      <td>0.06</td>\n",
       "      <td>0.19</td>\n",
       "      <td>-9.16</td>\n",
       "    </tr>\n",
       "    <tr>\n",
       "      <th>2022-10-31</th>\n",
       "      <td>7.83</td>\n",
       "      <td>0.09</td>\n",
       "      <td>8.05</td>\n",
       "      <td>0.23</td>\n",
       "      <td>8.06</td>\n",
       "    </tr>\n",
       "    <tr>\n",
       "      <th>2022-11-30</th>\n",
       "      <td>4.60</td>\n",
       "      <td>-3.40</td>\n",
       "      <td>1.38</td>\n",
       "      <td>0.29</td>\n",
       "      <td>4.89</td>\n",
       "    </tr>\n",
       "    <tr>\n",
       "      <th>2022-12-31</th>\n",
       "      <td>-6.41</td>\n",
       "      <td>-0.68</td>\n",
       "      <td>1.32</td>\n",
       "      <td>0.33</td>\n",
       "      <td>-6.08</td>\n",
       "    </tr>\n",
       "  </tbody>\n",
       "</table>\n",
       "</div>"
      ],
      "text/plain": [
       "             MKT   SMB   HML    RF  MKT_return\n",
       "Date                                          \n",
       "2022-08-31 -3.77  1.37  0.30  0.19       -3.58\n",
       "2022-09-30 -9.35 -0.79  0.06  0.19       -9.16\n",
       "2022-10-31  7.83  0.09  8.05  0.23        8.06\n",
       "2022-11-30  4.60 -3.40  1.38  0.29        4.89\n",
       "2022-12-31 -6.41 -0.68  1.32  0.33       -6.08"
      ]
     },
     "execution_count": 309,
     "metadata": {},
     "output_type": "execute_result"
    }
   ],
   "source": [
    "ff_data.tail()\n"
   ]
  },
  {
   "cell_type": "code",
   "execution_count": 310,
   "id": "4cfd4e4b",
   "metadata": {
    "ExecuteTime": {
     "end_time": "2023-04-02T20:48:13.205939Z",
     "start_time": "2023-04-02T20:48:13.167346Z"
    }
   },
   "outputs": [],
   "source": [
    "# calculate the monthly returns\n",
    "monthly_returns_3 = data.pct_change().resample('M').agg(lambda x: x[-1]).dropna()\n"
   ]
  },
  {
   "cell_type": "code",
   "execution_count": 311,
   "id": "6061a1ee",
   "metadata": {
    "ExecuteTime": {
     "end_time": "2023-04-02T20:48:13.211044Z",
     "start_time": "2023-04-02T20:48:13.208391Z"
    }
   },
   "outputs": [],
   "source": [
    "monthly_returns_3 = monthly_returns_3.multiply(100)\n"
   ]
  },
  {
   "cell_type": "code",
   "execution_count": 312,
   "id": "ca406644",
   "metadata": {
    "ExecuteTime": {
     "end_time": "2023-04-02T20:48:13.224269Z",
     "start_time": "2023-04-02T20:48:13.213300Z"
    }
   },
   "outputs": [
    {
     "data": {
      "text/html": [
       "<div>\n",
       "<style scoped>\n",
       "    .dataframe tbody tr th:only-of-type {\n",
       "        vertical-align: middle;\n",
       "    }\n",
       "\n",
       "    .dataframe tbody tr th {\n",
       "        vertical-align: top;\n",
       "    }\n",
       "\n",
       "    .dataframe thead th {\n",
       "        text-align: right;\n",
       "    }\n",
       "</style>\n",
       "<table border=\"1\" class=\"dataframe\">\n",
       "  <thead>\n",
       "    <tr style=\"text-align: right;\">\n",
       "      <th></th>\n",
       "      <th>AMZN</th>\n",
       "      <th>BA</th>\n",
       "      <th>CAT</th>\n",
       "      <th>DIS</th>\n",
       "      <th>GOOG</th>\n",
       "      <th>IBM</th>\n",
       "      <th>KO</th>\n",
       "      <th>MCD</th>\n",
       "      <th>MSFT</th>\n",
       "      <th>NKE</th>\n",
       "      <th>WMT</th>\n",
       "    </tr>\n",
       "    <tr>\n",
       "      <th>Date</th>\n",
       "      <th></th>\n",
       "      <th></th>\n",
       "      <th></th>\n",
       "      <th></th>\n",
       "      <th></th>\n",
       "      <th></th>\n",
       "      <th></th>\n",
       "      <th></th>\n",
       "      <th></th>\n",
       "      <th></th>\n",
       "      <th></th>\n",
       "    </tr>\n",
       "  </thead>\n",
       "  <tbody>\n",
       "    <tr>\n",
       "      <th>2014-01-31</th>\n",
       "      <td>-10.997244</td>\n",
       "      <td>-1.003695</td>\n",
       "      <td>0.761788</td>\n",
       "      <td>-0.833107</td>\n",
       "      <td>4.014485</td>\n",
       "      <td>-0.383400</td>\n",
       "      <td>-0.916935</td>\n",
       "      <td>0.394441</td>\n",
       "      <td>2.658712</td>\n",
       "      <td>-1.474134</td>\n",
       "      <td>-0.093645</td>\n",
       "    </tr>\n",
       "    <tr>\n",
       "      <th>2014-02-28</th>\n",
       "      <td>0.547021</td>\n",
       "      <td>0.280046</td>\n",
       "      <td>0.279203</td>\n",
       "      <td>0.410038</td>\n",
       "      <td>-0.291990</td>\n",
       "      <td>-0.053935</td>\n",
       "      <td>0.341467</td>\n",
       "      <td>0.073608</td>\n",
       "      <td>1.188589</td>\n",
       "      <td>0.358908</td>\n",
       "      <td>0.187748</td>\n",
       "    </tr>\n",
       "    <tr>\n",
       "      <th>2014-03-31</th>\n",
       "      <td>-0.567553</td>\n",
       "      <td>0.827575</td>\n",
       "      <td>-0.020121</td>\n",
       "      <td>1.367263</td>\n",
       "      <td>-0.539297</td>\n",
       "      <td>1.071139</td>\n",
       "      <td>-0.744527</td>\n",
       "      <td>0.812407</td>\n",
       "      <td>1.712174</td>\n",
       "      <td>0.435141</td>\n",
       "      <td>0.552533</td>\n",
       "    </tr>\n",
       "    <tr>\n",
       "      <th>2014-04-30</th>\n",
       "      <td>1.248419</td>\n",
       "      <td>0.506377</td>\n",
       "      <td>0.094978</td>\n",
       "      <td>0.890128</td>\n",
       "      <td>-0.197079</td>\n",
       "      <td>0.697055</td>\n",
       "      <td>0.542228</td>\n",
       "      <td>-0.118226</td>\n",
       "      <td>-0.271508</td>\n",
       "      <td>0.648449</td>\n",
       "      <td>0.050216</td>\n",
       "    </tr>\n",
       "    <tr>\n",
       "      <th>2014-05-31</th>\n",
       "      <td>-0.391998</td>\n",
       "      <td>0.081380</td>\n",
       "      <td>-1.322385</td>\n",
       "      <td>-0.023805</td>\n",
       "      <td>-0.033923</td>\n",
       "      <td>0.326543</td>\n",
       "      <td>0.614903</td>\n",
       "      <td>0.088837</td>\n",
       "      <td>1.487420</td>\n",
       "      <td>0.693892</td>\n",
       "      <td>1.039739</td>\n",
       "    </tr>\n",
       "  </tbody>\n",
       "</table>\n",
       "</div>"
      ],
      "text/plain": [
       "                 AMZN        BA       CAT       DIS      GOOG       IBM  \\\n",
       "Date                                                                      \n",
       "2014-01-31 -10.997244 -1.003695  0.761788 -0.833107  4.014485 -0.383400   \n",
       "2014-02-28   0.547021  0.280046  0.279203  0.410038 -0.291990 -0.053935   \n",
       "2014-03-31  -0.567553  0.827575 -0.020121  1.367263 -0.539297  1.071139   \n",
       "2014-04-30   1.248419  0.506377  0.094978  0.890128 -0.197079  0.697055   \n",
       "2014-05-31  -0.391998  0.081380 -1.322385 -0.023805 -0.033923  0.326543   \n",
       "\n",
       "                  KO       MCD      MSFT       NKE       WMT  \n",
       "Date                                                          \n",
       "2014-01-31 -0.916935  0.394441  2.658712 -1.474134 -0.093645  \n",
       "2014-02-28  0.341467  0.073608  1.188589  0.358908  0.187748  \n",
       "2014-03-31 -0.744527  0.812407  1.712174  0.435141  0.552533  \n",
       "2014-04-30  0.542228 -0.118226 -0.271508  0.648449  0.050216  \n",
       "2014-05-31  0.614903  0.088837  1.487420  0.693892  1.039739  "
      ]
     },
     "execution_count": 312,
     "metadata": {},
     "output_type": "execute_result"
    }
   ],
   "source": [
    "monthly_returns_3.head()"
   ]
  },
  {
   "cell_type": "code",
   "execution_count": 313,
   "id": "ea33c4e6",
   "metadata": {
    "ExecuteTime": {
     "end_time": "2023-04-02T20:48:13.231298Z",
     "start_time": "2023-04-02T20:48:13.226685Z"
    }
   },
   "outputs": [],
   "source": [
    "# Merge the two dataframes on their index\n",
    "merged_data = pd.merge(monthly_returns_3, ff_data, left_index=True, right_index=True)\n"
   ]
  },
  {
   "cell_type": "code",
   "execution_count": 314,
   "id": "ea8e0234",
   "metadata": {
    "ExecuteTime": {
     "end_time": "2023-04-02T20:48:13.247620Z",
     "start_time": "2023-04-02T20:48:13.233095Z"
    }
   },
   "outputs": [
    {
     "data": {
      "text/html": [
       "<div>\n",
       "<style scoped>\n",
       "    .dataframe tbody tr th:only-of-type {\n",
       "        vertical-align: middle;\n",
       "    }\n",
       "\n",
       "    .dataframe tbody tr th {\n",
       "        vertical-align: top;\n",
       "    }\n",
       "\n",
       "    .dataframe thead th {\n",
       "        text-align: right;\n",
       "    }\n",
       "</style>\n",
       "<table border=\"1\" class=\"dataframe\">\n",
       "  <thead>\n",
       "    <tr style=\"text-align: right;\">\n",
       "      <th></th>\n",
       "      <th>AMZN</th>\n",
       "      <th>BA</th>\n",
       "      <th>CAT</th>\n",
       "      <th>DIS</th>\n",
       "      <th>GOOG</th>\n",
       "      <th>IBM</th>\n",
       "      <th>KO</th>\n",
       "      <th>MCD</th>\n",
       "      <th>MSFT</th>\n",
       "      <th>NKE</th>\n",
       "      <th>WMT</th>\n",
       "      <th>MKT</th>\n",
       "      <th>SMB</th>\n",
       "      <th>HML</th>\n",
       "      <th>RF</th>\n",
       "      <th>MKT_return</th>\n",
       "    </tr>\n",
       "    <tr>\n",
       "      <th>Date</th>\n",
       "      <th></th>\n",
       "      <th></th>\n",
       "      <th></th>\n",
       "      <th></th>\n",
       "      <th></th>\n",
       "      <th></th>\n",
       "      <th></th>\n",
       "      <th></th>\n",
       "      <th></th>\n",
       "      <th></th>\n",
       "      <th></th>\n",
       "      <th></th>\n",
       "      <th></th>\n",
       "      <th></th>\n",
       "      <th></th>\n",
       "      <th></th>\n",
       "    </tr>\n",
       "  </thead>\n",
       "  <tbody>\n",
       "    <tr>\n",
       "      <th>2014-01-31</th>\n",
       "      <td>-10.997244</td>\n",
       "      <td>-1.003695</td>\n",
       "      <td>0.761788</td>\n",
       "      <td>-0.833107</td>\n",
       "      <td>4.014485</td>\n",
       "      <td>-0.383400</td>\n",
       "      <td>-0.916935</td>\n",
       "      <td>0.394441</td>\n",
       "      <td>2.658712</td>\n",
       "      <td>-1.474134</td>\n",
       "      <td>-0.093645</td>\n",
       "      <td>-3.32</td>\n",
       "      <td>0.90</td>\n",
       "      <td>-2.07</td>\n",
       "      <td>0.0</td>\n",
       "      <td>-3.32</td>\n",
       "    </tr>\n",
       "    <tr>\n",
       "      <th>2014-02-28</th>\n",
       "      <td>0.547021</td>\n",
       "      <td>0.280046</td>\n",
       "      <td>0.279203</td>\n",
       "      <td>0.410038</td>\n",
       "      <td>-0.291990</td>\n",
       "      <td>-0.053935</td>\n",
       "      <td>0.341467</td>\n",
       "      <td>0.073608</td>\n",
       "      <td>1.188589</td>\n",
       "      <td>0.358908</td>\n",
       "      <td>0.187748</td>\n",
       "      <td>4.65</td>\n",
       "      <td>0.37</td>\n",
       "      <td>-0.31</td>\n",
       "      <td>0.0</td>\n",
       "      <td>4.65</td>\n",
       "    </tr>\n",
       "    <tr>\n",
       "      <th>2014-03-31</th>\n",
       "      <td>-0.567553</td>\n",
       "      <td>0.827575</td>\n",
       "      <td>-0.020121</td>\n",
       "      <td>1.367263</td>\n",
       "      <td>-0.539297</td>\n",
       "      <td>1.071139</td>\n",
       "      <td>-0.744527</td>\n",
       "      <td>0.812407</td>\n",
       "      <td>1.712174</td>\n",
       "      <td>0.435141</td>\n",
       "      <td>0.552533</td>\n",
       "      <td>0.43</td>\n",
       "      <td>-1.85</td>\n",
       "      <td>4.93</td>\n",
       "      <td>0.0</td>\n",
       "      <td>0.43</td>\n",
       "    </tr>\n",
       "    <tr>\n",
       "      <th>2014-04-30</th>\n",
       "      <td>1.248419</td>\n",
       "      <td>0.506377</td>\n",
       "      <td>0.094978</td>\n",
       "      <td>0.890128</td>\n",
       "      <td>-0.197079</td>\n",
       "      <td>0.697055</td>\n",
       "      <td>0.542228</td>\n",
       "      <td>-0.118226</td>\n",
       "      <td>-0.271508</td>\n",
       "      <td>0.648449</td>\n",
       "      <td>0.050216</td>\n",
       "      <td>-0.19</td>\n",
       "      <td>-4.20</td>\n",
       "      <td>1.17</td>\n",
       "      <td>0.0</td>\n",
       "      <td>-0.19</td>\n",
       "    </tr>\n",
       "    <tr>\n",
       "      <th>2014-05-31</th>\n",
       "      <td>-0.391998</td>\n",
       "      <td>0.081380</td>\n",
       "      <td>-1.322385</td>\n",
       "      <td>-0.023805</td>\n",
       "      <td>-0.033923</td>\n",
       "      <td>0.326543</td>\n",
       "      <td>0.614903</td>\n",
       "      <td>0.088837</td>\n",
       "      <td>1.487420</td>\n",
       "      <td>0.693892</td>\n",
       "      <td>1.039739</td>\n",
       "      <td>2.06</td>\n",
       "      <td>-1.88</td>\n",
       "      <td>-0.13</td>\n",
       "      <td>0.0</td>\n",
       "      <td>2.06</td>\n",
       "    </tr>\n",
       "  </tbody>\n",
       "</table>\n",
       "</div>"
      ],
      "text/plain": [
       "                 AMZN        BA       CAT       DIS      GOOG       IBM  \\\n",
       "Date                                                                      \n",
       "2014-01-31 -10.997244 -1.003695  0.761788 -0.833107  4.014485 -0.383400   \n",
       "2014-02-28   0.547021  0.280046  0.279203  0.410038 -0.291990 -0.053935   \n",
       "2014-03-31  -0.567553  0.827575 -0.020121  1.367263 -0.539297  1.071139   \n",
       "2014-04-30   1.248419  0.506377  0.094978  0.890128 -0.197079  0.697055   \n",
       "2014-05-31  -0.391998  0.081380 -1.322385 -0.023805 -0.033923  0.326543   \n",
       "\n",
       "                  KO       MCD      MSFT       NKE       WMT   MKT   SMB  \\\n",
       "Date                                                                       \n",
       "2014-01-31 -0.916935  0.394441  2.658712 -1.474134 -0.093645 -3.32  0.90   \n",
       "2014-02-28  0.341467  0.073608  1.188589  0.358908  0.187748  4.65  0.37   \n",
       "2014-03-31 -0.744527  0.812407  1.712174  0.435141  0.552533  0.43 -1.85   \n",
       "2014-04-30  0.542228 -0.118226 -0.271508  0.648449  0.050216 -0.19 -4.20   \n",
       "2014-05-31  0.614903  0.088837  1.487420  0.693892  1.039739  2.06 -1.88   \n",
       "\n",
       "             HML   RF  MKT_return  \n",
       "Date                               \n",
       "2014-01-31 -2.07  0.0       -3.32  \n",
       "2014-02-28 -0.31  0.0        4.65  \n",
       "2014-03-31  4.93  0.0        0.43  \n",
       "2014-04-30  1.17  0.0       -0.19  \n",
       "2014-05-31 -0.13  0.0        2.06  "
      ]
     },
     "execution_count": 314,
     "metadata": {},
     "output_type": "execute_result"
    }
   ],
   "source": [
    "merged_data.head()"
   ]
  },
  {
   "cell_type": "code",
   "execution_count": 315,
   "id": "f5e10763",
   "metadata": {
    "ExecuteTime": {
     "end_time": "2023-04-02T20:48:13.253653Z",
     "start_time": "2023-04-02T20:48:13.250257Z"
    }
   },
   "outputs": [],
   "source": [
    "# Calculate the excess returns for each stock\n",
    "excess_returns = merged_data.iloc[:, :-3].sub(merged_data['RF'], axis=0)\n"
   ]
  },
  {
   "cell_type": "code",
   "execution_count": 316,
   "id": "8e303746",
   "metadata": {
    "ExecuteTime": {
     "end_time": "2023-04-02T20:48:13.258164Z",
     "start_time": "2023-04-02T20:48:13.255384Z"
    }
   },
   "outputs": [],
   "source": [
    "# Initialize empty lists to store alpha and p-value for each stock\n",
    "alpha_list = []\n",
    "pval_list = []\n"
   ]
  },
  {
   "cell_type": "code",
   "execution_count": 317,
   "id": "43b9c001",
   "metadata": {
    "ExecuteTime": {
     "end_time": "2023-04-02T20:48:13.308838Z",
     "start_time": "2023-04-02T20:48:13.259916Z"
    }
   },
   "outputs": [],
   "source": [
    "# Loop through each stock to calculate the 3-factor alpha\n",
    "for stock in excess_returns.columns:\n",
    "    # Define the independent variables\n",
    "    X = merged_data[['MKT_return', 'SMB', 'HML']]\n",
    "    \n",
    "    # Define the dependent variable\n",
    "    y = excess_returns[stock]\n",
    "    \n",
    "    # Add a constant to the independent variables\n",
    "    X = sm.add_constant(X)\n",
    "    \n",
    "    # Fit the linear regression model\n",
    "    model = sm.OLS(y, X).fit()\n",
    "    \n",
    "    # Extract the alpha and p-value\n",
    "    alpha = model.params['const']\n",
    "    pval = model.pvalues['const']\n",
    "    \n",
    "    # Append the alpha and p-value to the lists\n",
    "    alpha_list.append(alpha)\n",
    "    pval_list.append(pval)"
   ]
  },
  {
   "cell_type": "code",
   "execution_count": 318,
   "id": "cddac75d",
   "metadata": {
    "ExecuteTime": {
     "end_time": "2023-04-02T20:48:13.314876Z",
     "start_time": "2023-04-02T20:48:13.311436Z"
    }
   },
   "outputs": [],
   "source": [
    "# Create a new dataframe to store the results\n",
    "results4 = pd.DataFrame({\n",
    "    'Stock': excess_returns.columns,\n",
    "    'Alpha': alpha_list,\n",
    "    'P-Value': pval_list\n",
    "})\n"
   ]
  },
  {
   "cell_type": "code",
   "execution_count": 319,
   "id": "e4d7c6b7",
   "metadata": {
    "ExecuteTime": {
     "end_time": "2023-04-02T20:48:13.324288Z",
     "start_time": "2023-04-02T20:48:13.317088Z"
    }
   },
   "outputs": [
    {
     "data": {
      "text/html": [
       "<div>\n",
       "<style scoped>\n",
       "    .dataframe tbody tr th:only-of-type {\n",
       "        vertical-align: middle;\n",
       "    }\n",
       "\n",
       "    .dataframe tbody tr th {\n",
       "        vertical-align: top;\n",
       "    }\n",
       "\n",
       "    .dataframe thead th {\n",
       "        text-align: right;\n",
       "    }\n",
       "</style>\n",
       "<table border=\"1\" class=\"dataframe\">\n",
       "  <thead>\n",
       "    <tr style=\"text-align: right;\">\n",
       "      <th></th>\n",
       "      <th>Stock</th>\n",
       "      <th>Alpha</th>\n",
       "      <th>P-Value</th>\n",
       "    </tr>\n",
       "  </thead>\n",
       "  <tbody>\n",
       "    <tr>\n",
       "      <th>0</th>\n",
       "      <td>AMZN</td>\n",
       "      <td>0.002652</td>\n",
       "      <td>9.942038e-01</td>\n",
       "    </tr>\n",
       "    <tr>\n",
       "      <th>1</th>\n",
       "      <td>BA</td>\n",
       "      <td>-0.242245</td>\n",
       "      <td>1.500502e-01</td>\n",
       "    </tr>\n",
       "    <tr>\n",
       "      <th>2</th>\n",
       "      <td>CAT</td>\n",
       "      <td>0.019475</td>\n",
       "      <td>9.188009e-01</td>\n",
       "    </tr>\n",
       "    <tr>\n",
       "      <th>3</th>\n",
       "      <td>DIS</td>\n",
       "      <td>-0.077520</td>\n",
       "      <td>5.398787e-01</td>\n",
       "    </tr>\n",
       "    <tr>\n",
       "      <th>4</th>\n",
       "      <td>GOOG</td>\n",
       "      <td>-0.047795</td>\n",
       "      <td>8.206808e-01</td>\n",
       "    </tr>\n",
       "    <tr>\n",
       "      <th>5</th>\n",
       "      <td>IBM</td>\n",
       "      <td>-0.101795</td>\n",
       "      <td>3.785927e-01</td>\n",
       "    </tr>\n",
       "    <tr>\n",
       "      <th>6</th>\n",
       "      <td>KO</td>\n",
       "      <td>0.002894</td>\n",
       "      <td>9.791939e-01</td>\n",
       "    </tr>\n",
       "    <tr>\n",
       "      <th>7</th>\n",
       "      <td>MCD</td>\n",
       "      <td>-0.174490</td>\n",
       "      <td>1.766427e-01</td>\n",
       "    </tr>\n",
       "    <tr>\n",
       "      <th>8</th>\n",
       "      <td>MSFT</td>\n",
       "      <td>0.058922</td>\n",
       "      <td>7.418631e-01</td>\n",
       "    </tr>\n",
       "    <tr>\n",
       "      <th>9</th>\n",
       "      <td>NKE</td>\n",
       "      <td>-0.005903</td>\n",
       "      <td>9.830876e-01</td>\n",
       "    </tr>\n",
       "    <tr>\n",
       "      <th>10</th>\n",
       "      <td>WMT</td>\n",
       "      <td>-0.214224</td>\n",
       "      <td>1.319594e-01</td>\n",
       "    </tr>\n",
       "    <tr>\n",
       "      <th>11</th>\n",
       "      <td>MKT</td>\n",
       "      <td>-0.132536</td>\n",
       "      <td>1.049230e-09</td>\n",
       "    </tr>\n",
       "    <tr>\n",
       "      <th>12</th>\n",
       "      <td>SMB</td>\n",
       "      <td>-0.066268</td>\n",
       "      <td>1.049230e-09</td>\n",
       "    </tr>\n",
       "  </tbody>\n",
       "</table>\n",
       "</div>"
      ],
      "text/plain": [
       "   Stock     Alpha       P-Value\n",
       "0   AMZN  0.002652  9.942038e-01\n",
       "1     BA -0.242245  1.500502e-01\n",
       "2    CAT  0.019475  9.188009e-01\n",
       "3    DIS -0.077520  5.398787e-01\n",
       "4   GOOG -0.047795  8.206808e-01\n",
       "5    IBM -0.101795  3.785927e-01\n",
       "6     KO  0.002894  9.791939e-01\n",
       "7    MCD -0.174490  1.766427e-01\n",
       "8   MSFT  0.058922  7.418631e-01\n",
       "9    NKE -0.005903  9.830876e-01\n",
       "10   WMT -0.214224  1.319594e-01\n",
       "11   MKT -0.132536  1.049230e-09\n",
       "12   SMB -0.066268  1.049230e-09"
      ]
     },
     "execution_count": 319,
     "metadata": {},
     "output_type": "execute_result"
    }
   ],
   "source": [
    "results4"
   ]
  },
  {
   "cell_type": "code",
   "execution_count": 320,
   "id": "cd347dbf",
   "metadata": {
    "ExecuteTime": {
     "end_time": "2023-04-02T20:48:13.331719Z",
     "start_time": "2023-04-02T20:48:13.327172Z"
    }
   },
   "outputs": [
    {
     "name": "stdout",
     "output_type": "stream",
     "text": [
      "Stocks with statistically significant alpha at the 5% level: ['MKT', 'SMB']\n"
     ]
    }
   ],
   "source": [
    "# Check which stocks have a statistically significant alpha at the 5% level\n",
    "significant_stocks = results4[results4['P-Value'] < 0.05]['Stock'].tolist()\n",
    "print('Stocks with statistically significant alpha at the 5% level:', significant_stocks)\n"
   ]
  },
  {
   "cell_type": "markdown",
   "id": "ab93b861",
   "metadata": {},
   "source": [
    "# Question 4\n",
    "\n",
    "In this question, you will price what is called an Asian option using a method similar to what we used in Lecture 8 to price a barrier option. \n",
    "\n",
    "In a traditional option, the stock price on the last day of maturity is used to determine the value of the option. In Asian option, instead, it is the *average* of the stock price over a pre-determined set of days that is then used to determine the value of the option.\n",
    "\n",
    "For example, suppose you have an Asian call option with strike price of 100, avgdays=[150,200,300], and maturity of T=365 days. The value of the option is determined by the *average* price of the stock on days 150, 200, and 300 (instead of the price of the stock on day 365 like in a traditional option). So suppose the price of the stock on day150 was \\\\$110, on day200 was \\\\$120, and on day300 was \\\\$130. The average price on these 3 days is \\\\$120. Therefore, at maturity, the value of the option is worth \\\\$20 (average price of \\\\$120 minus the strike price of \\\\$100). If the average price is less than the strike, then the call option is worthless.\n",
    "\n",
    "Complete the below function _asian_option_price()_\n",
    "\n",
    "The inputs to the function along with their default values are given and described in the comment.\n",
    "\n",
    "\n",
    "The function should return the price of the Asian option today (so take the present value of the payoff at maturity, like in class).\n",
    "\n",
    "I've outlined some general steps the function could take in the comments"
   ]
  },
  {
   "cell_type": "code",
   "execution_count": 321,
   "id": "244866b0",
   "metadata": {
    "ExecuteTime": {
     "end_time": "2023-04-02T20:48:13.337149Z",
     "start_time": "2023-04-02T20:48:13.333905Z"
    }
   },
   "outputs": [],
   "source": [
    "from scipy.stats import norm"
   ]
  },
  {
   "cell_type": "code",
   "execution_count": 322,
   "id": "e39035d0",
   "metadata": {
    "ExecuteTime": {
     "end_time": "2023-04-02T20:48:13.344140Z",
     "start_time": "2023-04-02T20:48:13.339246Z"
    }
   },
   "outputs": [],
   "source": [
    "def asian_option_price(avgdates, r=.05, sigma=.2, T=1, S0=100,\n",
    "                       numsim=10000, K=110):\n",
    "\n",
    "    # Define numsteps, dt, and drift\n",
    "    numsteps = max(avgdates) + 1 if max(avgdates) + 1 > 253 else 253\n",
    "    dt = T/numsteps\n",
    "    drift = np.exp((r - 0.5*sigma**2)*dt)\n",
    "\n",
    "    # Generate brownian motion \"noise\"\n",
    "    noise = norm.rvs(size=(numsteps, numsim))\n",
    "\n",
    "    # Simulate the stock price paths\n",
    "    S = np.zeros((numsteps+1, numsim))\n",
    "    S[0] = S0\n",
    "    for t in range(1, numsteps+1):\n",
    "        S[t] = S[t-1]*drift*np.exp(sigma*np.sqrt(dt)*noise[t-1])\n",
    "\n",
    "    # Calculate the average price of the stock for the days in avgdates\n",
    "    avgS = np.mean(S[avgdates], axis=0)\n",
    "\n",
    "    # Find the value of the option at maturity\n",
    "    payoff = avgS - K\n",
    "    payoff[payoff < 0] = 0\n",
    "    optionvalue = np.exp(-r*T)*payoff\n",
    "\n",
    "    # Take the present value of that to bring to t=0\n",
    "    asian_option_price = np.mean(optionvalue)\n",
    "\n",
    "    # Return the price\n",
    "    return asian_option_price"
   ]
  },
  {
   "cell_type": "code",
   "execution_count": 323,
   "id": "8c4d4af0",
   "metadata": {
    "ExecuteTime": {
     "end_time": "2023-04-02T20:48:13.495983Z",
     "start_time": "2023-04-02T20:48:13.348664Z"
    }
   },
   "outputs": [
    {
     "name": "stdout",
     "output_type": "stream",
     "text": [
      "Option Call Price:  7.780817171642021\n"
     ]
    }
   ],
   "source": [
    "avgdates = [150, 200, 300]\n",
    "r = 0.05\n",
    "sigma = 0.2\n",
    "T = 1\n",
    "S0 = 100\n",
    "numsim = 10000\n",
    "K = 100\n",
    "\n",
    "asian_call_price = asian_option_price(avgdates, r=r, sigma=sigma, T=T, S0=S0, numsim=numsim, K=K)\n",
    "\n",
    "print(\"Option Call Price: \", asian_call_price)"
   ]
  },
  {
   "cell_type": "code",
   "execution_count": null,
   "id": "35c31e26",
   "metadata": {},
   "outputs": [],
   "source": []
  }
 ],
 "metadata": {
  "kernelspec": {
   "display_name": "Python 3 (ipykernel)",
   "language": "python",
   "name": "python3"
  },
  "language_info": {
   "codemirror_mode": {
    "name": "ipython",
    "version": 3
   },
   "file_extension": ".py",
   "mimetype": "text/x-python",
   "name": "python",
   "nbconvert_exporter": "python",
   "pygments_lexer": "ipython3",
   "version": "3.11.0"
  },
  "varInspector": {
   "cols": {
    "lenName": 16,
    "lenType": 16,
    "lenVar": 40
   },
   "kernels_config": {
    "python": {
     "delete_cmd_postfix": "",
     "delete_cmd_prefix": "del ",
     "library": "var_list.py",
     "varRefreshCmd": "print(var_dic_list())"
    },
    "r": {
     "delete_cmd_postfix": ") ",
     "delete_cmd_prefix": "rm(",
     "library": "var_list.r",
     "varRefreshCmd": "cat(var_dic_list()) "
    }
   },
   "types_to_exclude": [
    "module",
    "function",
    "builtin_function_or_method",
    "instance",
    "_Feature"
   ],
   "window_display": false
  }
 },
 "nbformat": 4,
 "nbformat_minor": 5
}
